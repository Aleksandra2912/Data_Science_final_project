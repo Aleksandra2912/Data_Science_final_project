{
 "cells": [
  {
   "cell_type": "code",
   "execution_count": 1,
   "id": "13308296-52b9-4cfc-a625-2598f03a4ec5",
   "metadata": {},
   "outputs": [],
   "source": [
    "import pandas as pd\n",
    "import numpy as np\n",
    "import matplotlib.pyplot as plt\n",
    "import matplotlib as mpl\n",
    "import seaborn as sns\n",
    "import os\n",
    "import random \n",
    "import sys\n",
    "import warnings\n",
    "import sklearn\n",
    "import statsmodels.api as sm\n",
    "from scipy import stats\n",
    "from scipy.stats import shapiro, normaltest\n",
    "from sklearn.svm import SVC\n",
    "from sklearn.linear_model import LogisticRegression\n",
    "from sklearn.pipeline import Pipeline\n",
    "from sklearn.compose import ColumnTransformer \n",
    "from sklearn.preprocessing import StandardScaler, OneHotEncoder, OrdinalEncoder\n",
    "from sklearn.model_selection import train_test_split, learning_curve, GridSearchCV, RandomizedSearchCV, StratifiedKFold\n",
    "from sklearn.feature_selection import VarianceThreshold, SelectKBest, mutual_info_classif, RFECV\n",
    "from sklearn import metrics\n",
    "from sklearn.metrics import roc_auc_score, brier_score_loss, accuracy_score\n",
    "from sklearn.calibration import calibration_curve, CalibratedClassifierCV, CalibrationDisplay\n",
    "from sklearn.ensemble import RandomForestClassifier, GradientBoostingClassifier\n",
    "from tableone import TableOne\n",
    "from IPython.display import display\n",
    "\n",
    "\n",
    "import warnings\n",
    "warnings.simplefilter(action='ignore', category=FutureWarning)\n",
    "import statsmodels.api as sm\n",
    "from tableone import TableOne\n",
    "from IPython.display import display\n",
    "\n",
    "# Pandas configuration \n",
    "pd.set_option('display.max_rows', 100)\n",
    "\n",
    "# To plot pretty figures \n",
    "%matplotlib inline\n",
    "mpl.rc('axes', labelsize=14)\n",
    "mpl.rc('xtick', labelsize=10)\n",
    "mpl.rc('ytick', labelsize=10)\n",
    "\n",
    "### Create a folder and define the save_fig() function which is used through \n",
    "### this notebook to save the figures in hig-res ####\n",
    "\n",
    "PROJECT_ROOT_DIR = r\"C:\\Users\\aleks\\OneDrive - Coventry University\\Desktop\\Project_Data\"\n",
    "CHAPTER_ID = \"project_figures\"\n",
    "IMAGES_PATH = os.path.join(PROJECT_ROOT_DIR, \"images\", CHAPTER_ID)\n",
    "os.makedirs(IMAGES_PATH, exist_ok=True)\n",
    "\n",
    "def save_fig(fig_id, tight_layout=True, fig_extension=\"png\", resolution=300):\n",
    "    path = os.path.join(IMAGES_PATH, fig_id + \".\" + fig_extension)\n",
    "    print(\"Saving figure\", fig_id)\n",
    "    if tight_layout:\n",
    "        plt.tight_layout()\n",
    "    plt.savefig(path, format=fig_extension, dpi=resolution)"
   ]
  },
  {
   "cell_type": "code",
   "execution_count": 2,
   "id": "f7b2eeae-57fa-4d70-9861-204797d3c391",
   "metadata": {},
   "outputs": [
    {
     "name": "stdout",
     "output_type": "stream",
     "text": [
      "1.6.1\n"
     ]
    }
   ],
   "source": [
    "print(sklearn.__version__)"
   ]
  },
  {
   "cell_type": "markdown",
   "id": "d8e617a0-eca3-469e-bdf1-565c674c4983",
   "metadata": {},
   "source": [
    "==== Create a set of pre-selected features and target variable ===="
   ]
  },
  {
   "cell_type": "code",
   "execution_count": 3,
   "id": "d85346ef-9436-40cd-94d1-d3e716d5460e",
   "metadata": {},
   "outputs": [],
   "source": [
    "features = [\n",
    "\"n_pdvage\",\"n_sex_dv\",\"n_ethn_dv\",\"n_urban_dv\",\n",
    "\"n_hiqual_dv\",\"n_fimnnet_dv\",\"n_employ\",\"n_marstat_dv\",\n",
    "\"n_hhsize\",\"n_rach16_dv\",\"n_aidhh\",\"n_scfrendany\",\n",
    "\"n_screlany\", \"n_health\",\"n_scsf1\",\"n_scsf2a\",\"n_scsf2b\",\"n_scsf3a\",\n",
    "\"n_scsf3b\",\"n_scsf5\", \"n_browse\",\"n_email\",\"n_smlook\", \"n_scgentrust\",\"n_scleftout\",\"n_sclackcom\",\n",
    "\"n_scisolate\",\"n_smpost\", \"n_onlinebuy\",\"n_onlinebank\",\"n_gaming\", \"n_streaming\",\n",
    "\"n_streammusic\",\"n_smoker\",\"n_finnow\",\"n_finfut\",\"n_scghq2_dv\"\n",
    "]"
   ]
  },
  {
   "cell_type": "code",
   "execution_count": 4,
   "id": "ac734964-08dd-4202-9c22-a998f702f797",
   "metadata": {},
   "outputs": [
    {
     "name": "stdout",
     "output_type": "stream",
     "text": [
      "37\n"
     ]
    }
   ],
   "source": [
    "print(len(features)) "
   ]
  },
  {
   "cell_type": "markdown",
   "id": "535ba745-2682-4a1e-8043-03ec9f68a249",
   "metadata": {},
   "source": [
    "=== Informative labels for features ==="
   ]
  },
  {
   "cell_type": "code",
   "execution_count": 5,
   "id": "9d7fb2e1-04d4-4409-9eb7-3366028605cc",
   "metadata": {},
   "outputs": [],
   "source": [
    "column_mapping={\n",
    "    'n_pdvage': 'dem_age', \n",
    "    'n_sex_dv':'dem_sex', \n",
    "    'n_ethn_dv': 'dem_ethnicity',\n",
    "    'n_urban_dv': 'dem_urban_rural', \n",
    "    'n_hiqual_dv': 'dem_education_level',\n",
    "    'n_fimnnet_dv': 'dem_income', \n",
    "    'n_employ': 'dem_emp_status', \n",
    "    'n_marstat_dv': 'dem_marital_status', \n",
    "    'n_hhsize': 'household_size', \n",
    "    'n_rach16_dv': 'responsible_for_child', \n",
    "    'n_aidhh': 'provides_care',\n",
    "    'n_scfrendany':\t'social_has_friends',  \n",
    "    'n_screlany':\t'social_has_family',\n",
    "    'n_scgentrust':\t'social_general_trust',\n",
    "    'n_scleftout': \t'social_feels_left_out',\n",
    "    'n_sclackcom':\t'social_lacks_companionship',\n",
    "    'n_scisolate': 'social_feels_isolated',\n",
    "    'n_health':\t'has_longterm_illness',\n",
    "    'n_scsf1':\t'general_health_rating',\n",
    "    'n_scsf2a':\t'health_limits_moderate_activity',\n",
    "    'n_scsf2b':\t'health_limits_stairs',\n",
    "    'n_scsf3a':\t'health_limits_daily_activities_amount',\n",
    "    'n_scsf3b':\t'health_limits_work_type',\n",
    "    'n_scsf5':\t'health_pain_interferse_activity_type',\n",
    "    'n_browse':\t'internet_browse_freq',\n",
    "    'n_email':  'internet_email_freq',\n",
    "    'n_smlook':\t'internet_social_media_view_freq',\n",
    "    'n_smpost':\t'internet_social_media_post_freq',\n",
    "    'n_onlinebuy':'internet_shopping_freq',\n",
    "    'n_onlinebank':'internet_banking_freq',\n",
    "    'n_gaming':\t'internet_gaming_freq',\n",
    "    'n_streaming': \t'internet_video_streaming_freq',\n",
    "    'n_streammusic':'internet_music_streaming_freq',\n",
    "    'n_smoker': \t'is_smoker',\n",
    "    'n_finnow':\t'financial_situation_current',\n",
    "    'n_finfut':\t'financial_situation_future',\n",
    "    'n_scghq2_dv': 'ghq_binary',\n",
    "}"
   ]
  },
  {
   "cell_type": "code",
   "execution_count": 6,
   "id": "909e437b-0926-4081-af34-cef18f84eee5",
   "metadata": {},
   "outputs": [],
   "source": [
    "df = pd.io.stata.read_stata(r\"C:\\Users\\aleks\\OneDrive - Coventry University\\Desktop\\Project_Data\\UKDA-6614-stata\\stata\\stata13_se\\ukhls\\n_indresp.dta\",\n",
    "                    convert_categoricals=False,\n",
    "                            columns=features\n",
    "                    )"
   ]
  },
  {
   "cell_type": "code",
   "execution_count": 7,
   "id": "eec196dc-7d97-442c-901d-a3d69270fb09",
   "metadata": {},
   "outputs": [],
   "source": [
    "### Rename columns for clarity ###\n",
    "df_new = df.rename(columns=column_mapping)"
   ]
  },
  {
   "cell_type": "code",
   "execution_count": 8,
   "id": "4afadb4a-6224-465c-8433-039bef5d9af2",
   "metadata": {
    "scrolled": true
   },
   "outputs": [
    {
     "name": "stdout",
     "output_type": "stream",
     "text": [
      "<class 'pandas.core.frame.DataFrame'>\n",
      "RangeIndex: 35471 entries, 0 to 35470\n",
      "Data columns (total 37 columns):\n",
      " #   Column                                 Non-Null Count  Dtype  \n",
      "---  ------                                 --------------  -----  \n",
      " 0   dem_age                                35471 non-null  int16  \n",
      " 1   dem_sex                                35471 non-null  int8   \n",
      " 2   dem_ethnicity                          35471 non-null  int8   \n",
      " 3   dem_urban_rural                        35471 non-null  int8   \n",
      " 4   dem_education_level                    35471 non-null  int8   \n",
      " 5   dem_income                             35471 non-null  float32\n",
      " 6   dem_emp_status                         35471 non-null  int8   \n",
      " 7   dem_marital_status                     35471 non-null  int8   \n",
      " 8   household_size                         35471 non-null  int8   \n",
      " 9   responsible_for_child                  35471 non-null  int8   \n",
      " 10  provides_care                          35471 non-null  int8   \n",
      " 11  social_has_friends                     35471 non-null  int8   \n",
      " 12  social_has_family                      35471 non-null  int8   \n",
      " 13  has_longterm_illness                   35471 non-null  int8   \n",
      " 14  general_health_rating                  35471 non-null  int8   \n",
      " 15  health_limits_moderate_activity        35471 non-null  int8   \n",
      " 16  health_limits_stairs                   35471 non-null  int8   \n",
      " 17  health_limits_daily_activities_amount  35471 non-null  int8   \n",
      " 18  health_limits_work_type                35471 non-null  int8   \n",
      " 19  health_pain_interferse_activity_type   35471 non-null  int8   \n",
      " 20  internet_browse_freq                   35471 non-null  int8   \n",
      " 21  internet_email_freq                    35471 non-null  int8   \n",
      " 22  internet_social_media_view_freq        35471 non-null  int8   \n",
      " 23  social_general_trust                   35471 non-null  int8   \n",
      " 24  social_feels_left_out                  35471 non-null  int8   \n",
      " 25  social_lacks_companionship             35471 non-null  int8   \n",
      " 26  social_feels_isolated                  35471 non-null  int8   \n",
      " 27  internet_social_media_post_freq        35471 non-null  int8   \n",
      " 28  internet_shopping_freq                 35471 non-null  int8   \n",
      " 29  internet_banking_freq                  35471 non-null  int8   \n",
      " 30  internet_gaming_freq                   35471 non-null  int8   \n",
      " 31  internet_video_streaming_freq          35471 non-null  int8   \n",
      " 32  internet_music_streaming_freq          35471 non-null  int8   \n",
      " 33  is_smoker                              35471 non-null  int8   \n",
      " 34  financial_situation_current            35471 non-null  int8   \n",
      " 35  financial_situation_future             35471 non-null  int8   \n",
      " 36  ghq_binary                             35471 non-null  int8   \n",
      "dtypes: float32(1), int16(1), int8(35)\n",
      "memory usage: 1.4 MB\n"
     ]
    }
   ],
   "source": [
    "df_new.info()"
   ]
  },
  {
   "cell_type": "markdown",
   "id": "1e64554b-9511-4dfe-bed6-cf06e8b20da3",
   "metadata": {},
   "source": [
    "=== Missing values handling ===\n",
    "\n",
    "Recode the below values into NaN and then remove all NaN values using listwise deletion.\n",
    "(1) -1  \"Don't know\" \n",
    "(2) -2  \"Refused\"\n",
    "(3) -7  \"Proxy\"\n",
    "(4) -8  \"Valid skip\"\n",
    "(5) -9  \"Missing by error or implausible\""
   ]
  },
  {
   "cell_type": "code",
   "execution_count": 9,
   "id": "b507adea-3f8e-4972-ae65-b7f17afaf2da",
   "metadata": {},
   "outputs": [],
   "source": [
    "# Replace missing codes with NaN\n",
    "missing_codes = [-1, -2, -7, -8, -9]\n",
    "df_new = df_new.replace(missing_codes, np.nan)"
   ]
  },
  {
   "cell_type": "code",
   "execution_count": 10,
   "id": "3e712801-ce78-4636-ad4a-a5a4cfd492e6",
   "metadata": {},
   "outputs": [
    {
     "name": "stdout",
     "output_type": "stream",
     "text": [
      "Before cleaning:\n",
      "provides_care                            6472\n",
      "internet_music_streaming_freq            1872\n",
      "internet_video_streaming_freq            1870\n",
      "internet_banking_freq                    1865\n",
      "internet_social_media_post_freq          1861\n",
      "internet_gaming_freq                     1856\n",
      "internet_shopping_freq                   1854\n",
      "internet_social_media_view_freq          1853\n",
      "internet_email_freq                      1850\n",
      "internet_browse_freq                     1833\n",
      "ghq_binary                               1357\n",
      "social_has_family                        1201\n",
      "social_general_trust                     1110\n",
      "social_lacks_companionship               1105\n",
      "social_has_friends                       1101\n",
      "social_feels_left_out                    1098\n",
      "social_feels_isolated                    1093\n",
      "dem_education_level                      1073\n",
      "health_limits_work_type                  1069\n",
      "health_limits_daily_activities_amount    1024\n",
      "health_pain_interferse_activity_type     1021\n",
      "health_limits_stairs                     1012\n",
      "health_limits_moderate_activity           973\n",
      "general_health_rating                     870\n",
      "financial_situation_future                840\n",
      "financial_situation_current               449\n",
      "dem_emp_status                            290\n",
      "is_smoker                                 222\n",
      "has_longterm_illness                      210\n",
      "dem_marital_status                        208\n",
      "dem_age                                   198\n",
      "dem_ethnicity                             139\n",
      "dem_urban_rural                            11\n",
      "dem_sex                                     4\n",
      "household_size                              0\n",
      "responsible_for_child                       0\n",
      "dem_income                                  0\n",
      "dtype: int64\n"
     ]
    }
   ],
   "source": [
    "# Check missing data before cleaning\n",
    "print(\"Before cleaning:\")\n",
    "print(df_new.isnull().sum().sort_values(ascending=False))"
   ]
  },
  {
   "cell_type": "code",
   "execution_count": 11,
   "id": "7ca56cca-9cf0-4c52-9a88-83976cf2611a",
   "metadata": {},
   "outputs": [],
   "source": [
    "# Drop # \n",
    "df_clean = df_new.dropna().copy()"
   ]
  },
  {
   "cell_type": "code",
   "execution_count": 12,
   "id": "77fca9e3-c2e9-4fe7-a286-bfa87f71e0ef",
   "metadata": {
    "scrolled": true
   },
   "outputs": [
    {
     "name": "stdout",
     "output_type": "stream",
     "text": [
      "After cleaning:\n",
      "dem_age                                  0\n",
      "dem_sex                                  0\n",
      "dem_ethnicity                            0\n",
      "dem_urban_rural                          0\n",
      "dem_education_level                      0\n",
      "dem_income                               0\n",
      "dem_emp_status                           0\n",
      "dem_marital_status                       0\n",
      "household_size                           0\n",
      "responsible_for_child                    0\n",
      "provides_care                            0\n",
      "social_has_friends                       0\n",
      "social_has_family                        0\n",
      "has_longterm_illness                     0\n",
      "general_health_rating                    0\n",
      "health_limits_moderate_activity          0\n",
      "health_limits_stairs                     0\n",
      "health_limits_daily_activities_amount    0\n",
      "health_limits_work_type                  0\n",
      "health_pain_interferse_activity_type     0\n",
      "internet_browse_freq                     0\n",
      "internet_email_freq                      0\n",
      "internet_social_media_view_freq          0\n",
      "social_general_trust                     0\n",
      "social_feels_left_out                    0\n",
      "social_lacks_companionship               0\n",
      "social_feels_isolated                    0\n",
      "internet_social_media_post_freq          0\n",
      "internet_shopping_freq                   0\n",
      "internet_banking_freq                    0\n",
      "internet_gaming_freq                     0\n",
      "internet_video_streaming_freq            0\n",
      "internet_music_streaming_freq            0\n",
      "is_smoker                                0\n",
      "financial_situation_current              0\n",
      "financial_situation_future               0\n",
      "ghq_binary                               0\n",
      "dtype: int64\n"
     ]
    }
   ],
   "source": [
    "# Check #\n",
    "print(\"After cleaning:\")\n",
    "print(df_clean.isnull().sum().sort_values(ascending=False))"
   ]
  },
  {
   "cell_type": "code",
   "execution_count": 13,
   "id": "6d57081a-c56e-4eb1-96c1-56e8fd8997cc",
   "metadata": {},
   "outputs": [
    {
     "name": "stdout",
     "output_type": "stream",
     "text": [
      "Before cleaning: 35471 rows, 37 columns\n",
      "After cleaning: 25514 wierszy, 37 columns\n"
     ]
    }
   ],
   "source": [
    "print(f\"Before cleaning: {df_new.shape[0]} rows, {df_new.shape[1]} columns\")\n",
    "print(f\"After cleaning: {df_clean.shape[0]} wierszy, {df_clean.shape[1]} columns\")"
   ]
  },
  {
   "cell_type": "code",
   "execution_count": 14,
   "id": "459d32a6-e951-4c93-9808-dc7d6949c547",
   "metadata": {},
   "outputs": [
    {
     "name": "stdout",
     "output_type": "stream",
     "text": [
      "\\Removed: 9957\n",
      "Remaining: 25514\n"
     ]
    }
   ],
   "source": [
    "# Calculate how many rows were removed \n",
    "removed_rows = df_new.shape[0] - df_clean.shape[0]\n",
    "remaining_rows = df_clean.shape[0]\n",
    "\n",
    "print(f\"\\Removed: {removed_rows}\")\n",
    "print(f\"Remaining: {remaining_rows}\")"
   ]
  },
  {
   "cell_type": "code",
   "execution_count": 15,
   "id": "293714c8-0fb3-42eb-8644-7418d84d4c2b",
   "metadata": {},
   "outputs": [
    {
     "name": "stdout",
     "output_type": "stream",
     "text": [
      "\\Removed: 9957\n",
      "Remaining: 25514\n"
     ]
    }
   ],
   "source": [
    "print(f\"\\Removed: {removed_rows}\")\n",
    "print(f\"Remaining: {remaining_rows}\")"
   ]
  },
  {
   "cell_type": "code",
   "execution_count": 16,
   "id": "e8e21f5e-30b6-43db-9bc9-bf4b6b623099",
   "metadata": {},
   "outputs": [],
   "source": [
    "# Calcuate % \n",
    "percent_removed = (removed_rows / df_new.shape[0]) * 100\n",
    "percent_remaining = (remaining_rows / df_new.shape[0]) * 100"
   ]
  },
  {
   "cell_type": "code",
   "execution_count": 17,
   "id": "dfee8c2b-6400-463e-ad52-f7d32e48180a",
   "metadata": {},
   "outputs": [
    {
     "name": "stdout",
     "output_type": "stream",
     "text": [
      "\n",
      "% Removed: 28.07%\n",
      "% Remaining: 71.93%\n"
     ]
    }
   ],
   "source": [
    "print(f\"\\n% Removed: {percent_removed:.2f}%\")\n",
    "print(f\"% Remaining: {percent_remaining:.2f}%\")"
   ]
  },
  {
   "cell_type": "code",
   "execution_count": 18,
   "id": "c1cd6562-351f-4504-b49d-75693952a996",
   "metadata": {
    "scrolled": true
   },
   "outputs": [
    {
     "name": "stdout",
     "output_type": "stream",
     "text": [
      "<class 'pandas.core.frame.DataFrame'>\n",
      "Index: 25514 entries, 0 to 35470\n",
      "Data columns (total 37 columns):\n",
      " #   Column                                 Non-Null Count  Dtype  \n",
      "---  ------                                 --------------  -----  \n",
      " 0   dem_age                                25514 non-null  float64\n",
      " 1   dem_sex                                25514 non-null  float64\n",
      " 2   dem_ethnicity                          25514 non-null  float64\n",
      " 3   dem_urban_rural                        25514 non-null  float64\n",
      " 4   dem_education_level                    25514 non-null  float64\n",
      " 5   dem_income                             25514 non-null  float32\n",
      " 6   dem_emp_status                         25514 non-null  float64\n",
      " 7   dem_marital_status                     25514 non-null  float64\n",
      " 8   household_size                         25514 non-null  int8   \n",
      " 9   responsible_for_child                  25514 non-null  int8   \n",
      " 10  provides_care                          25514 non-null  float64\n",
      " 11  social_has_friends                     25514 non-null  float64\n",
      " 12  social_has_family                      25514 non-null  float64\n",
      " 13  has_longterm_illness                   25514 non-null  float64\n",
      " 14  general_health_rating                  25514 non-null  float64\n",
      " 15  health_limits_moderate_activity        25514 non-null  float64\n",
      " 16  health_limits_stairs                   25514 non-null  float64\n",
      " 17  health_limits_daily_activities_amount  25514 non-null  float64\n",
      " 18  health_limits_work_type                25514 non-null  float64\n",
      " 19  health_pain_interferse_activity_type   25514 non-null  float64\n",
      " 20  internet_browse_freq                   25514 non-null  float64\n",
      " 21  internet_email_freq                    25514 non-null  float64\n",
      " 22  internet_social_media_view_freq        25514 non-null  float64\n",
      " 23  social_general_trust                   25514 non-null  float64\n",
      " 24  social_feels_left_out                  25514 non-null  float64\n",
      " 25  social_lacks_companionship             25514 non-null  float64\n",
      " 26  social_feels_isolated                  25514 non-null  float64\n",
      " 27  internet_social_media_post_freq        25514 non-null  float64\n",
      " 28  internet_shopping_freq                 25514 non-null  float64\n",
      " 29  internet_banking_freq                  25514 non-null  float64\n",
      " 30  internet_gaming_freq                   25514 non-null  float64\n",
      " 31  internet_video_streaming_freq          25514 non-null  float64\n",
      " 32  internet_music_streaming_freq          25514 non-null  float64\n",
      " 33  is_smoker                              25514 non-null  float64\n",
      " 34  financial_situation_current            25514 non-null  float64\n",
      " 35  financial_situation_future             25514 non-null  float64\n",
      " 36  ghq_binary                             25514 non-null  float64\n",
      "dtypes: float32(1), float64(34), int8(2)\n",
      "memory usage: 7.0 MB\n"
     ]
    }
   ],
   "source": [
    "df_clean.info()"
   ]
  },
  {
   "cell_type": "code",
   "execution_count": 19,
   "id": "024e6f21-5217-42ee-a55a-63a47826d6e6",
   "metadata": {},
   "outputs": [
    {
     "data": {
      "text/plain": [
       "(25514, 37)"
      ]
     },
     "execution_count": 19,
     "metadata": {},
     "output_type": "execute_result"
    }
   ],
   "source": [
    "df_clean.shape"
   ]
  },
  {
   "cell_type": "code",
   "execution_count": 20,
   "id": "beb84f45-9e6e-453c-a2df-2124b99467de",
   "metadata": {},
   "outputs": [
    {
     "data": {
      "text/html": [
       "<div>\n",
       "<style scoped>\n",
       "    .dataframe tbody tr th:only-of-type {\n",
       "        vertical-align: middle;\n",
       "    }\n",
       "\n",
       "    .dataframe tbody tr th {\n",
       "        vertical-align: top;\n",
       "    }\n",
       "\n",
       "    .dataframe thead th {\n",
       "        text-align: right;\n",
       "    }\n",
       "</style>\n",
       "<table border=\"1\" class=\"dataframe\">\n",
       "  <thead>\n",
       "    <tr style=\"text-align: right;\">\n",
       "      <th></th>\n",
       "      <th>dem_age</th>\n",
       "      <th>dem_sex</th>\n",
       "      <th>dem_ethnicity</th>\n",
       "      <th>dem_urban_rural</th>\n",
       "      <th>dem_education_level</th>\n",
       "      <th>dem_income</th>\n",
       "      <th>dem_emp_status</th>\n",
       "      <th>dem_marital_status</th>\n",
       "      <th>household_size</th>\n",
       "      <th>responsible_for_child</th>\n",
       "      <th>...</th>\n",
       "      <th>internet_social_media_post_freq</th>\n",
       "      <th>internet_shopping_freq</th>\n",
       "      <th>internet_banking_freq</th>\n",
       "      <th>internet_gaming_freq</th>\n",
       "      <th>internet_video_streaming_freq</th>\n",
       "      <th>internet_music_streaming_freq</th>\n",
       "      <th>is_smoker</th>\n",
       "      <th>financial_situation_current</th>\n",
       "      <th>financial_situation_future</th>\n",
       "      <th>ghq_binary</th>\n",
       "    </tr>\n",
       "  </thead>\n",
       "  <tbody>\n",
       "    <tr>\n",
       "      <th>0</th>\n",
       "      <td>37.0</td>\n",
       "      <td>2.0</td>\n",
       "      <td>1.0</td>\n",
       "      <td>1.0</td>\n",
       "      <td>1.0</td>\n",
       "      <td>1857.079956</td>\n",
       "      <td>1.0</td>\n",
       "      <td>1.0</td>\n",
       "      <td>4</td>\n",
       "      <td>1</td>\n",
       "      <td>...</td>\n",
       "      <td>1.0</td>\n",
       "      <td>2.0</td>\n",
       "      <td>1.0</td>\n",
       "      <td>2.0</td>\n",
       "      <td>3.0</td>\n",
       "      <td>2.0</td>\n",
       "      <td>2.0</td>\n",
       "      <td>2.0</td>\n",
       "      <td>3.0</td>\n",
       "      <td>7.0</td>\n",
       "    </tr>\n",
       "    <tr>\n",
       "      <th>1</th>\n",
       "      <td>45.0</td>\n",
       "      <td>2.0</td>\n",
       "      <td>1.0</td>\n",
       "      <td>1.0</td>\n",
       "      <td>1.0</td>\n",
       "      <td>2378.750000</td>\n",
       "      <td>1.0</td>\n",
       "      <td>4.0</td>\n",
       "      <td>3</td>\n",
       "      <td>1</td>\n",
       "      <td>...</td>\n",
       "      <td>6.0</td>\n",
       "      <td>2.0</td>\n",
       "      <td>2.0</td>\n",
       "      <td>6.0</td>\n",
       "      <td>2.0</td>\n",
       "      <td>3.0</td>\n",
       "      <td>2.0</td>\n",
       "      <td>5.0</td>\n",
       "      <td>3.0</td>\n",
       "      <td>11.0</td>\n",
       "    </tr>\n",
       "    <tr>\n",
       "      <th>2</th>\n",
       "      <td>39.0</td>\n",
       "      <td>2.0</td>\n",
       "      <td>1.0</td>\n",
       "      <td>1.0</td>\n",
       "      <td>3.0</td>\n",
       "      <td>3206.000000</td>\n",
       "      <td>1.0</td>\n",
       "      <td>1.0</td>\n",
       "      <td>4</td>\n",
       "      <td>1</td>\n",
       "      <td>...</td>\n",
       "      <td>6.0</td>\n",
       "      <td>2.0</td>\n",
       "      <td>2.0</td>\n",
       "      <td>5.0</td>\n",
       "      <td>6.0</td>\n",
       "      <td>2.0</td>\n",
       "      <td>2.0</td>\n",
       "      <td>3.0</td>\n",
       "      <td>1.0</td>\n",
       "      <td>0.0</td>\n",
       "    </tr>\n",
       "    <tr>\n",
       "      <th>3</th>\n",
       "      <td>43.0</td>\n",
       "      <td>2.0</td>\n",
       "      <td>1.0</td>\n",
       "      <td>2.0</td>\n",
       "      <td>4.0</td>\n",
       "      <td>94.470001</td>\n",
       "      <td>2.0</td>\n",
       "      <td>1.0</td>\n",
       "      <td>4</td>\n",
       "      <td>1</td>\n",
       "      <td>...</td>\n",
       "      <td>5.0</td>\n",
       "      <td>3.0</td>\n",
       "      <td>2.0</td>\n",
       "      <td>3.0</td>\n",
       "      <td>6.0</td>\n",
       "      <td>2.0</td>\n",
       "      <td>2.0</td>\n",
       "      <td>3.0</td>\n",
       "      <td>3.0</td>\n",
       "      <td>5.0</td>\n",
       "    </tr>\n",
       "    <tr>\n",
       "      <th>4</th>\n",
       "      <td>32.0</td>\n",
       "      <td>2.0</td>\n",
       "      <td>1.0</td>\n",
       "      <td>1.0</td>\n",
       "      <td>5.0</td>\n",
       "      <td>2056.080078</td>\n",
       "      <td>1.0</td>\n",
       "      <td>6.0</td>\n",
       "      <td>3</td>\n",
       "      <td>1</td>\n",
       "      <td>...</td>\n",
       "      <td>3.0</td>\n",
       "      <td>3.0</td>\n",
       "      <td>2.0</td>\n",
       "      <td>1.0</td>\n",
       "      <td>2.0</td>\n",
       "      <td>2.0</td>\n",
       "      <td>2.0</td>\n",
       "      <td>2.0</td>\n",
       "      <td>3.0</td>\n",
       "      <td>4.0</td>\n",
       "    </tr>\n",
       "    <tr>\n",
       "      <th>5</th>\n",
       "      <td>35.0</td>\n",
       "      <td>2.0</td>\n",
       "      <td>1.0</td>\n",
       "      <td>1.0</td>\n",
       "      <td>1.0</td>\n",
       "      <td>2839.649902</td>\n",
       "      <td>1.0</td>\n",
       "      <td>1.0</td>\n",
       "      <td>3</td>\n",
       "      <td>1</td>\n",
       "      <td>...</td>\n",
       "      <td>3.0</td>\n",
       "      <td>1.0</td>\n",
       "      <td>1.0</td>\n",
       "      <td>3.0</td>\n",
       "      <td>1.0</td>\n",
       "      <td>3.0</td>\n",
       "      <td>2.0</td>\n",
       "      <td>1.0</td>\n",
       "      <td>3.0</td>\n",
       "      <td>0.0</td>\n",
       "    </tr>\n",
       "    <tr>\n",
       "      <th>6</th>\n",
       "      <td>37.0</td>\n",
       "      <td>1.0</td>\n",
       "      <td>1.0</td>\n",
       "      <td>1.0</td>\n",
       "      <td>9.0</td>\n",
       "      <td>838.500000</td>\n",
       "      <td>2.0</td>\n",
       "      <td>6.0</td>\n",
       "      <td>3</td>\n",
       "      <td>2</td>\n",
       "      <td>...</td>\n",
       "      <td>4.0</td>\n",
       "      <td>6.0</td>\n",
       "      <td>3.0</td>\n",
       "      <td>2.0</td>\n",
       "      <td>1.0</td>\n",
       "      <td>3.0</td>\n",
       "      <td>1.0</td>\n",
       "      <td>4.0</td>\n",
       "      <td>2.0</td>\n",
       "      <td>12.0</td>\n",
       "    </tr>\n",
       "    <tr>\n",
       "      <th>10</th>\n",
       "      <td>38.0</td>\n",
       "      <td>1.0</td>\n",
       "      <td>1.0</td>\n",
       "      <td>2.0</td>\n",
       "      <td>4.0</td>\n",
       "      <td>1156.239990</td>\n",
       "      <td>1.0</td>\n",
       "      <td>6.0</td>\n",
       "      <td>2</td>\n",
       "      <td>2</td>\n",
       "      <td>...</td>\n",
       "      <td>2.0</td>\n",
       "      <td>2.0</td>\n",
       "      <td>2.0</td>\n",
       "      <td>5.0</td>\n",
       "      <td>2.0</td>\n",
       "      <td>3.0</td>\n",
       "      <td>1.0</td>\n",
       "      <td>2.0</td>\n",
       "      <td>3.0</td>\n",
       "      <td>1.0</td>\n",
       "    </tr>\n",
       "    <tr>\n",
       "      <th>11</th>\n",
       "      <td>68.0</td>\n",
       "      <td>2.0</td>\n",
       "      <td>1.0</td>\n",
       "      <td>1.0</td>\n",
       "      <td>1.0</td>\n",
       "      <td>910.000000</td>\n",
       "      <td>2.0</td>\n",
       "      <td>6.0</td>\n",
       "      <td>2</td>\n",
       "      <td>2</td>\n",
       "      <td>...</td>\n",
       "      <td>6.0</td>\n",
       "      <td>5.0</td>\n",
       "      <td>6.0</td>\n",
       "      <td>5.0</td>\n",
       "      <td>6.0</td>\n",
       "      <td>6.0</td>\n",
       "      <td>2.0</td>\n",
       "      <td>2.0</td>\n",
       "      <td>3.0</td>\n",
       "      <td>0.0</td>\n",
       "    </tr>\n",
       "    <tr>\n",
       "      <th>12</th>\n",
       "      <td>77.0</td>\n",
       "      <td>1.0</td>\n",
       "      <td>1.0</td>\n",
       "      <td>1.0</td>\n",
       "      <td>2.0</td>\n",
       "      <td>1395.329956</td>\n",
       "      <td>2.0</td>\n",
       "      <td>3.0</td>\n",
       "      <td>2</td>\n",
       "      <td>2</td>\n",
       "      <td>...</td>\n",
       "      <td>6.0</td>\n",
       "      <td>6.0</td>\n",
       "      <td>5.0</td>\n",
       "      <td>6.0</td>\n",
       "      <td>6.0</td>\n",
       "      <td>6.0</td>\n",
       "      <td>2.0</td>\n",
       "      <td>4.0</td>\n",
       "      <td>2.0</td>\n",
       "      <td>8.0</td>\n",
       "    </tr>\n",
       "  </tbody>\n",
       "</table>\n",
       "<p>10 rows × 37 columns</p>\n",
       "</div>"
      ],
      "text/plain": [
       "    dem_age  dem_sex  dem_ethnicity  dem_urban_rural  dem_education_level  \\\n",
       "0      37.0      2.0            1.0              1.0                  1.0   \n",
       "1      45.0      2.0            1.0              1.0                  1.0   \n",
       "2      39.0      2.0            1.0              1.0                  3.0   \n",
       "3      43.0      2.0            1.0              2.0                  4.0   \n",
       "4      32.0      2.0            1.0              1.0                  5.0   \n",
       "5      35.0      2.0            1.0              1.0                  1.0   \n",
       "6      37.0      1.0            1.0              1.0                  9.0   \n",
       "10     38.0      1.0            1.0              2.0                  4.0   \n",
       "11     68.0      2.0            1.0              1.0                  1.0   \n",
       "12     77.0      1.0            1.0              1.0                  2.0   \n",
       "\n",
       "     dem_income  dem_emp_status  dem_marital_status  household_size  \\\n",
       "0   1857.079956             1.0                 1.0               4   \n",
       "1   2378.750000             1.0                 4.0               3   \n",
       "2   3206.000000             1.0                 1.0               4   \n",
       "3     94.470001             2.0                 1.0               4   \n",
       "4   2056.080078             1.0                 6.0               3   \n",
       "5   2839.649902             1.0                 1.0               3   \n",
       "6    838.500000             2.0                 6.0               3   \n",
       "10  1156.239990             1.0                 6.0               2   \n",
       "11   910.000000             2.0                 6.0               2   \n",
       "12  1395.329956             2.0                 3.0               2   \n",
       "\n",
       "    responsible_for_child  ...  internet_social_media_post_freq  \\\n",
       "0                       1  ...                              1.0   \n",
       "1                       1  ...                              6.0   \n",
       "2                       1  ...                              6.0   \n",
       "3                       1  ...                              5.0   \n",
       "4                       1  ...                              3.0   \n",
       "5                       1  ...                              3.0   \n",
       "6                       2  ...                              4.0   \n",
       "10                      2  ...                              2.0   \n",
       "11                      2  ...                              6.0   \n",
       "12                      2  ...                              6.0   \n",
       "\n",
       "    internet_shopping_freq  internet_banking_freq  internet_gaming_freq  \\\n",
       "0                      2.0                    1.0                   2.0   \n",
       "1                      2.0                    2.0                   6.0   \n",
       "2                      2.0                    2.0                   5.0   \n",
       "3                      3.0                    2.0                   3.0   \n",
       "4                      3.0                    2.0                   1.0   \n",
       "5                      1.0                    1.0                   3.0   \n",
       "6                      6.0                    3.0                   2.0   \n",
       "10                     2.0                    2.0                   5.0   \n",
       "11                     5.0                    6.0                   5.0   \n",
       "12                     6.0                    5.0                   6.0   \n",
       "\n",
       "    internet_video_streaming_freq  internet_music_streaming_freq  is_smoker  \\\n",
       "0                             3.0                            2.0        2.0   \n",
       "1                             2.0                            3.0        2.0   \n",
       "2                             6.0                            2.0        2.0   \n",
       "3                             6.0                            2.0        2.0   \n",
       "4                             2.0                            2.0        2.0   \n",
       "5                             1.0                            3.0        2.0   \n",
       "6                             1.0                            3.0        1.0   \n",
       "10                            2.0                            3.0        1.0   \n",
       "11                            6.0                            6.0        2.0   \n",
       "12                            6.0                            6.0        2.0   \n",
       "\n",
       "    financial_situation_current  financial_situation_future  ghq_binary  \n",
       "0                           2.0                         3.0         7.0  \n",
       "1                           5.0                         3.0        11.0  \n",
       "2                           3.0                         1.0         0.0  \n",
       "3                           3.0                         3.0         5.0  \n",
       "4                           2.0                         3.0         4.0  \n",
       "5                           1.0                         3.0         0.0  \n",
       "6                           4.0                         2.0        12.0  \n",
       "10                          2.0                         3.0         1.0  \n",
       "11                          2.0                         3.0         0.0  \n",
       "12                          4.0                         2.0         8.0  \n",
       "\n",
       "[10 rows x 37 columns]"
      ]
     },
     "execution_count": 20,
     "metadata": {},
     "output_type": "execute_result"
    }
   ],
   "source": [
    "df_clean.head(10)"
   ]
  },
  {
   "cell_type": "code",
   "execution_count": 21,
   "id": "9504a97b-0656-4629-be25-bc8a7cdcbf52",
   "metadata": {},
   "outputs": [],
   "source": [
    "### Create a copy so df_new won't be affected ###\n",
    "df_clean = df_new.dropna().copy()"
   ]
  },
  {
   "cell_type": "code",
   "execution_count": 22,
   "id": "2cd26449-c5ff-4f44-82fa-90450421f64a",
   "metadata": {},
   "outputs": [
    {
     "name": "stdout",
     "output_type": "stream",
     "text": [
      "Original dem_sex values before mapping:\n",
      "dem_sex\n",
      "2.0    14055\n",
      "1.0    11457\n",
      "0.0        2\n",
      "Name: count, dtype: int64\n"
     ]
    }
   ],
   "source": [
    "# Before mapping, check what values exist\n",
    "print(\"Original dem_sex values before mapping:\")\n",
    "print(df_clean['dem_sex'].value_counts(dropna=False))"
   ]
  },
  {
   "cell_type": "code",
   "execution_count": 23,
   "id": "43dfcdaa-a079-442f-8c56-ed576e7dab4c",
   "metadata": {},
   "outputs": [],
   "source": [
    "### Remove inconsistence ###\n",
    "df_clean = df_clean[df_clean['dem_sex'] != 0]"
   ]
  },
  {
   "cell_type": "code",
   "execution_count": 24,
   "id": "867b9de9-e134-4c99-af5a-d699a645024e",
   "metadata": {},
   "outputs": [],
   "source": [
    "#### Columns mapping #### "
   ]
  },
  {
   "cell_type": "code",
   "execution_count": 25,
   "id": "0626ac03-2842-42ee-af7a-62f24b736936",
   "metadata": {},
   "outputs": [],
   "source": [
    "#### Mapping ####\n",
    "\n",
    "binary_direct_map = {\n",
    "    1: \"Yes\", \n",
    "    2: \"No\",\n",
    "} \n",
    "binary_direct_categories_ordered = [\n",
    "    'No', \n",
    "    'Yes',\n",
    "] \n",
    "\n",
    "dem_sex_map = {\n",
    "    1: 'Male',\n",
    "    2: 'Female',\n",
    "}\n",
    "\n",
    "dem_sex_categories_ordered = [\n",
    "    'Female', \n",
    "    'Male',\n",
    "] \n",
    "\n",
    "urban_rural_map = {\n",
    "    1: 'Urban area',\n",
    "    2: 'Rural area',\n",
    "\n",
    "}\n",
    "\n",
    "urban_rural_categories = [\n",
    "    'Rural area', \n",
    "    'Urban area',\n",
    "]\n"
   ]
  },
  {
   "cell_type": "code",
   "execution_count": 26,
   "id": "8c65e2f1-34ef-4a22-a821-d784d207a3a4",
   "metadata": {},
   "outputs": [],
   "source": [
    "# List of binary columns originally coded as 1=Yes, 2 =No #\n",
    "cols_to_map_yes_no = [\n",
    "    'responsible_for_child',\n",
    "    'provides_care',\n",
    "    'has_longterm_illness',\n",
    "    'is_smoker',\n",
    "    'social_has_friends',\n",
    "    'social_has_family'\n",
    "]"
   ]
  },
  {
   "cell_type": "code",
   "execution_count": 27,
   "id": "3034c1e6-7efc-4bcb-9f19-2f14fe9b7c97",
   "metadata": {},
   "outputs": [],
   "source": [
    "# then convert to an unordered categorical type for cleaner representation and analysis\n",
    "for col in cols_to_map_yes_no:\n",
    "    df_clean[col] = df_clean[col].map(binary_direct_map)\n",
    "    df_clean[col] = pd.Categorical(df_clean[col], \n",
    "                                   categories=binary_direct_categories_ordered, \n",
    "                                   ordered=False)"
   ]
  },
  {
   "cell_type": "code",
   "execution_count": 28,
   "id": "e4b9aca5-23ed-4e5c-8952-b191a298e386",
   "metadata": {},
   "outputs": [],
   "source": [
    "# Map numerical codes in 'dem_sex' to gender labels and convert to categorical \n",
    "df_clean['dem_sex'] = df_clean['dem_sex'].map(dem_sex_map)\n",
    "df_clean['dem_sex'] = pd.Categorical(df_clean['dem_sex'], categories=dem_sex_categories_ordered, ordered=False)"
   ]
  },
  {
   "cell_type": "code",
   "execution_count": 29,
   "id": "460be049-fbfa-4074-9f8c-8dfc77b559ec",
   "metadata": {},
   "outputs": [],
   "source": [
    "# Map codes in 'dem_urban_rural' to area type labels and convert to categorical\n",
    "df_clean['dem_urban_rural'] = df_clean['dem_urban_rural'].map(urban_rural_map)\n",
    "df_clean['dem_urban_rural'] = pd.Categorical(df_clean['dem_urban_rural'], categories=urban_rural_categories, ordered=False)"
   ]
  },
  {
   "cell_type": "code",
   "execution_count": 30,
   "id": "7fa57226-48fb-44ab-9d5f-4bffa84d615e",
   "metadata": {},
   "outputs": [],
   "source": [
    "def map_marital_status(x):\n",
    "    if x in {3,4,5,6}:\n",
    "        return 0\n",
    "    elif x in {1,2}:\n",
    "        return 1\n",
    "\n",
    "def map_education_level(x):\n",
    "    if x == 9:\n",
    "        return 1\n",
    "    elif x in {5,4,3}:\n",
    "        return 2\n",
    "    elif x in {1,2}:\n",
    "        return 3\n",
    "        \n",
    "def map_household_status(x):\n",
    "    if x in {1,2}:\n",
    "        return 1\n",
    "    elif x in {3,4}:\n",
    "        return 2\n",
    "    elif x in {5,6,7,8,9}:\n",
    "        return 3"
   ]
  },
  {
   "cell_type": "code",
   "execution_count": 31,
   "id": "268540fa-1fa4-418d-bb08-d7897c4f91b5",
   "metadata": {},
   "outputs": [],
   "source": [
    "# Mapping for variables after custom binning #\n",
    "\n",
    "marital_status_final_map = {\n",
    "    0: 'Not in relationship',\n",
    "    1: 'In relationship'\n",
    "}\n",
    "\n",
    "marital_status_categories = [\n",
    "    'Not in relationship', \n",
    "    'In relationship'] # Order for nominal\n",
    "\n",
    "education_level_final_map = {\n",
    "    1: 'No formal education',\n",
    "    2: 'Secondary/Other',\n",
    "    3: 'Higher education',\n",
    "}\n",
    "# Define the logical order for this ordinal variable\n",
    "education_level_categories_ordered = [\n",
    "    'No formal education', \n",
    "    'Secondary/Other',\n",
    "    'Higher education'\n",
    "]\n",
    "\n",
    "emp_status_final_map = {\n",
    "    2: 'Unemployed/Retired/Other', \n",
    "    1: 'Employed'\n",
    "}\n",
    "emp_status_categories = ['Unemployed/Retired/Other', \n",
    "                         'Employed'] \n",
    "\n",
    "household_size_final_map = {\n",
    "    1: '1-2 people',\n",
    "    2: '3-4 people',\n",
    "    3: '5+ people' \n",
    "}\n",
    "# Define the logical order for this ordinal variable\n",
    "household_size_categories_ordered = [\n",
    "    '1-2 people', \n",
    "    '3-4 people', \n",
    "    '5+ people']"
   ]
  },
  {
   "cell_type": "code",
   "execution_count": 32,
   "id": "05b51867-6e98-4509-8210-e13c83f39715",
   "metadata": {},
   "outputs": [],
   "source": [
    "# --- Processing dem_marital_status ---\n",
    "df_clean['dem_marital_status'] = df_clean['dem_marital_status'].apply(map_marital_status) # Runs your binning function\n",
    "df_clean['dem_marital_status'] = df_clean['dem_marital_status'].map(marital_status_final_map) # Maps binned numbers to text\n",
    "df_clean['dem_marital_status'] = pd.Categorical(df_clean['dem_marital_status'], categories=marital_status_categories, ordered=False) # Sets as Categorical\n",
    "\n",
    "# --- Processing dem_education_level ---\n",
    "df_clean['dem_education_level'] = df_clean['dem_education_level'].apply(map_education_level)\n",
    "df_clean['dem_education_level'] = df_clean['dem_education_level'].map(education_level_final_map)\n",
    "df_clean['dem_education_level'] = pd.Categorical(df_clean['dem_education_level'], categories=education_level_categories_ordered, ordered=True)\n",
    "\n",
    "# --- Processing dem_emp_status ---\n",
    "df_clean['dem_emp_status'] = df_clean['dem_emp_status'].map(emp_status_final_map)\n",
    "df_clean['dem_emp_status'] = pd.Categorical(df_clean['dem_emp_status'], categories=emp_status_categories, ordered=False)\n",
    "\n",
    "# --- Processing household_size ---\n",
    "df_clean['household_size'] = df_clean['household_size'].apply(map_household_status)\n",
    "df_clean['household_size'] = df_clean['household_size'].map(household_size_final_map)\n",
    "df_clean['household_size'] = pd.Categorical(df_clean['household_size'], categories=household_size_categories_ordered, ordered=True)"
   ]
  },
  {
   "cell_type": "code",
   "execution_count": 33,
   "id": "c0365f17-7e43-4893-82f3-cb58e778a2d8",
   "metadata": {
    "scrolled": true
   },
   "outputs": [
    {
     "data": {
      "text/plain": [
       "dem_marital_status   dem_education_level  dem_emp_status            household_size\n",
       "In relationship      Higher education     Employed                  3-4 people        3758\n",
       "                     Secondary/Other      Employed                  3-4 people        2641\n",
       "                                          Unemployed/Retired/Other  1-2 people        2528\n",
       "                     Higher education     Employed                  1-2 people        2399\n",
       "                                          Unemployed/Retired/Other  1-2 people        2290\n",
       "                     Secondary/Other      Employed                  1-2 people        1736\n",
       "Not in relationship  Secondary/Other      Employed                  3-4 people        1023\n",
       "                                          Unemployed/Retired/Other  3-4 people         925\n",
       "                     Higher education     Employed                  3-4 people         850\n",
       "In relationship      Secondary/Other      Unemployed/Retired/Other  3-4 people         788\n",
       "                     Higher education     Employed                  5+ people          765\n",
       "                                          Unemployed/Retired/Other  3-4 people         673\n",
       "                     Secondary/Other      Employed                  5+ people          642\n",
       "Not in relationship  Higher education     Employed                  1-2 people         501\n",
       "                     Secondary/Other      Employed                  1-2 people         471\n",
       "In relationship      No formal education  Unemployed/Retired/Other  1-2 people         460\n",
       "Not in relationship  Secondary/Other      Unemployed/Retired/Other  5+ people          452\n",
       "                                          Employed                  5+ people          359\n",
       "                                          Unemployed/Retired/Other  1-2 people         358\n",
       "In relationship      Secondary/Other      Unemployed/Retired/Other  5+ people          285\n",
       "Not in relationship  Higher education     Employed                  5+ people          213\n",
       "                                          Unemployed/Retired/Other  3-4 people         193\n",
       "                                                                    1-2 people         188\n",
       "In relationship      Higher education     Unemployed/Retired/Other  5+ people          157\n",
       "Not in relationship  No formal education  Unemployed/Retired/Other  3-4 people         151\n",
       "In relationship      No formal education  Unemployed/Retired/Other  3-4 people         113\n",
       "                                          Employed                  3-4 people          95\n",
       "                                                                    1-2 people          85\n",
       "Not in relationship  No formal education  Unemployed/Retired/Other  1-2 people          80\n",
       "In relationship      No formal education  Unemployed/Retired/Other  5+ people           78\n",
       "Not in relationship  Higher education     Unemployed/Retired/Other  5+ people           72\n",
       "                     No formal education  Unemployed/Retired/Other  5+ people           58\n",
       "                                          Employed                  3-4 people          41\n",
       "In relationship      No formal education  Employed                  5+ people           37\n",
       "Not in relationship  No formal education  Employed                  1-2 people          25\n",
       "                                                                    5+ people           22\n",
       "Name: count, dtype: int64"
      ]
     },
     "metadata": {},
     "output_type": "display_data"
    }
   ],
   "source": [
    "# Verify the changes\n",
    "display(df_clean[['dem_marital_status', 'dem_education_level', 'dem_emp_status', 'household_size']].value_counts())"
   ]
  },
  {
   "cell_type": "code",
   "execution_count": 34,
   "id": "a8218c0a-a03e-4177-9c3e-4107ff32ee60",
   "metadata": {},
   "outputs": [],
   "source": [
    "# Map ethinicity # \n",
    "def map_ethnicity(x):\n",
    "    \"\"\"\n",
    "    Maps a numerical ethnicity code to a grouped ethnicity label.\n",
    "\n",
    "    Parameters:\n",
    "        x (int): A numeric code representing ethnicity.\n",
    "\n",
    "    Returns:\n",
    "        str: One of the grouped labels: 'White', 'Mixed', 'Asian', 'Black', or 'Other'.\n",
    "    \"\"\"\n",
    "    \n",
    "    if x in [1, 2, 3, 4]:\n",
    "        return 'White'\n",
    "    elif x in [5, 6, 7, 8]:\n",
    "        return 'Mixed'\n",
    "    elif x in [9, 10, 11, 12, 13]:\n",
    "        return 'Asian'\n",
    "    elif x in [14, 15, 16]:\n",
    "        return 'Black'\n",
    "    elif x in [17, 97]:\n",
    "        return 'Other'\n",
    "\n",
    "ethnicity_categories = [\n",
    "    'White',\n",
    "    'Mixed',\n",
    "    'Asian',\n",
    "    'Black',\n",
    "    'Other'\n",
    "   \n",
    "]\n",
    "\n",
    "df_clean.loc[:, 'dem_ethnicity'] = df_clean['dem_ethnicity'].apply(map_ethnicity)"
   ]
  },
  {
   "cell_type": "code",
   "execution_count": 35,
   "id": "88376aaf-877d-45e5-878e-5ab9335d6c2d",
   "metadata": {},
   "outputs": [],
   "source": [
    "### Convert to categorical ###\n",
    "df_clean.loc[:, 'dem_ethnicity'] = pd.Categorical(df_clean['dem_ethnicity'],\n",
    "                                                   categories=ethnicity_categories,\n",
    "                                                   ordered=False) "
   ]
  },
  {
   "cell_type": "code",
   "execution_count": 36,
   "id": "928140f4-6e6a-4c43-bc6d-81317d2a88e9",
   "metadata": {},
   "outputs": [
    {
     "data": {
      "text/plain": [
       "dem_ethnicity\n",
       "White    21981\n",
       "Asian     2342\n",
       "Black      597\n",
       "Mixed      500\n",
       "Other       92\n",
       "Name: count, dtype: int64"
      ]
     },
     "metadata": {},
     "output_type": "display_data"
    }
   ],
   "source": [
    "# Check #\n",
    "display(df_clean['dem_ethnicity'].value_counts(dropna=False))"
   ]
  },
  {
   "cell_type": "code",
   "execution_count": 37,
   "id": "3257d491-5154-4444-80e6-f94e309f5987",
   "metadata": {},
   "outputs": [
    {
     "name": "stdout",
     "output_type": "stream",
     "text": [
      "(25512, 37)\n"
     ]
    }
   ],
   "source": [
    "print(df_clean.shape)"
   ]
  },
  {
   "cell_type": "code",
   "execution_count": 38,
   "id": "615680fb-ebc9-4b44-bd07-78cde4d8c164",
   "metadata": {},
   "outputs": [],
   "source": [
    "# dictionary and order (from most frequent to least frequent)\n",
    "# Map columns \n",
    "ucla_score_map = {\n",
    "    1: 1,  # \"Hardly ever or never\" = 1 score \n",
    "    2: 2,  # \"Some of the time\" = 2 score  \n",
    "    3: 3   # \"Often\" = 3 scores \n",
    "}\n",
    "\n",
    "#  UCLA loneliness scale columns \n",
    "ucla_loneliness_cols = [\n",
    "    'social_feels_left_out',      # n_scleftout\n",
    "    'social_lacks_companionship', # n_sclackcom\n",
    "    'social_feels_isolated'       # n_scisolate\n",
    "]\n",
    "\n",
    "# Calculate composite score #\n",
    "df_clean['UCLA_loneliness_score'] = df_clean[ucla_loneliness_cols].sum(axis=1)\n",
    "\n",
    "# drop initial columns\n",
    "df_clean = df_clean.drop(columns=ucla_loneliness_cols)"
   ]
  },
  {
   "cell_type": "code",
   "execution_count": 39,
   "id": "fc088e0d-1e34-4120-8202-8fc7cf402387",
   "metadata": {},
   "outputs": [
    {
     "name": "stdout",
     "output_type": "stream",
     "text": [
      "UCLA_loneliness_score\n",
      "3.0    12798\n",
      "4.0     3149\n",
      "5.0     2723\n",
      "6.0     4580\n",
      "7.0      963\n",
      "8.0      550\n",
      "9.0      749\n",
      "Name: count, dtype: int64\n"
     ]
    }
   ],
   "source": [
    "print(df_clean['UCLA_loneliness_score'].value_counts().sort_index())"
   ]
  },
  {
   "cell_type": "code",
   "execution_count": 40,
   "id": "23afefb9-c76b-4135-880b-a9458d119782",
   "metadata": {
    "scrolled": true
   },
   "outputs": [
    {
     "name": "stdout",
     "output_type": "stream",
     "text": [
      "<class 'pandas.core.frame.DataFrame'>\n",
      "Index: 25512 entries, 0 to 35470\n",
      "Data columns (total 35 columns):\n",
      " #   Column                                 Non-Null Count  Dtype   \n",
      "---  ------                                 --------------  -----   \n",
      " 0   dem_age                                25512 non-null  float64 \n",
      " 1   dem_sex                                25512 non-null  category\n",
      " 2   dem_ethnicity                          25512 non-null  object  \n",
      " 3   dem_urban_rural                        25512 non-null  category\n",
      " 4   dem_education_level                    25512 non-null  category\n",
      " 5   dem_income                             25512 non-null  float32 \n",
      " 6   dem_emp_status                         25512 non-null  category\n",
      " 7   dem_marital_status                     25512 non-null  category\n",
      " 8   household_size                         25512 non-null  category\n",
      " 9   responsible_for_child                  25512 non-null  category\n",
      " 10  provides_care                          25512 non-null  category\n",
      " 11  social_has_friends                     25512 non-null  category\n",
      " 12  social_has_family                      25512 non-null  category\n",
      " 13  has_longterm_illness                   25512 non-null  category\n",
      " 14  general_health_rating                  25512 non-null  float64 \n",
      " 15  health_limits_moderate_activity        25512 non-null  float64 \n",
      " 16  health_limits_stairs                   25512 non-null  float64 \n",
      " 17  health_limits_daily_activities_amount  25512 non-null  float64 \n",
      " 18  health_limits_work_type                25512 non-null  float64 \n",
      " 19  health_pain_interferse_activity_type   25512 non-null  float64 \n",
      " 20  internet_browse_freq                   25512 non-null  float64 \n",
      " 21  internet_email_freq                    25512 non-null  float64 \n",
      " 22  internet_social_media_view_freq        25512 non-null  float64 \n",
      " 23  social_general_trust                   25512 non-null  float64 \n",
      " 24  internet_social_media_post_freq        25512 non-null  float64 \n",
      " 25  internet_shopping_freq                 25512 non-null  float64 \n",
      " 26  internet_banking_freq                  25512 non-null  float64 \n",
      " 27  internet_gaming_freq                   25512 non-null  float64 \n",
      " 28  internet_video_streaming_freq          25512 non-null  float64 \n",
      " 29  internet_music_streaming_freq          25512 non-null  float64 \n",
      " 30  is_smoker                              25512 non-null  category\n",
      " 31  financial_situation_current            25512 non-null  float64 \n",
      " 32  financial_situation_future             25512 non-null  float64 \n",
      " 33  ghq_binary                             25512 non-null  float64 \n",
      " 34  UCLA_loneliness_score                  25512 non-null  float64 \n",
      "dtypes: category(12), float32(1), float64(21), object(1)\n",
      "memory usage: 4.9+ MB\n"
     ]
    }
   ],
   "source": [
    "df_clean.info()"
   ]
  },
  {
   "cell_type": "code",
   "execution_count": 41,
   "id": "45d60478-6994-44cf-8dd4-20d7ef055a41",
   "metadata": {},
   "outputs": [],
   "source": [
    "\n",
    "\n",
    "# dictionary and oreder (from \n",
    "internet_freq_map = {\n",
    "    1: \"Every day\",\n",
    "    2: \"Several times a week\",\n",
    "    3: \"Several times a month\",\n",
    "    4: \"Once a month\",\n",
    "    5: \"Less than once a month\",\n",
    "    6: \"Never\",\n",
    "}\n",
    "internet_freq_categories_ordered = [\n",
    "    \"Every day\",\n",
    "    \"Several times a week\",\n",
    "    \"Several times a month\",\n",
    "    \"Once a month\",\n",
    "    \"Less than once a month\",\n",
    "    \"Never\",\n",
    "]\n",
    "\n",
    "internet_freq_cols = [\n",
    "    \"internet_browse_freq\",\n",
    "    \"internet_email_freq\",\n",
    "    \"internet_social_media_view_freq\",\n",
    "    \"internet_social_media_post_freq\",\n",
    "    \"internet_shopping_freq\",\n",
    "    \"internet_banking_freq\",\n",
    "    \"internet_gaming_freq\",\n",
    "    \"internet_video_streaming_freq\",\n",
    "    \"internet_music_streaming_freq\",\n",
    "]\n",
    "\n",
    "def set_internet_freq_ordered(df, cols):\n",
    "    \"\"\"\n",
    "    Converts internet frequency columns to ordered categorical variables.\n",
    "    Maps numeric codes (1-6) to frequency labels and sets proper ordering.\n",
    "    \n",
    "    \"\"\"\n",
    "    for col in cols:\n",
    "        s = df[col]\n",
    "        \n",
    "        # If already target labels, just set as categorical\n",
    "        if s.dropna().isin(internet_freq_categories_ordered).all():\n",
    "            df[col] = pd.Categorical(s, categories=internet_freq_categories_ordered, ordered=True)\n",
    "            continue\n",
    "            \n",
    "        # Try to map 1..6 -> labels\n",
    "        sn = pd.to_numeric(s, errors=\"coerce\")\n",
    "        mapped = sn.map(internet_freq_map)\n",
    "        df[col] = pd.Categorical(mapped, categories=internet_freq_categories_ordered, ordered=True)\n",
    "    \n",
    "    return df"
   ]
  },
  {
   "cell_type": "code",
   "execution_count": 42,
   "id": "4279cb66-b02f-4bb7-915b-05f61d44d4d9",
   "metadata": {},
   "outputs": [],
   "source": [
    "df_clean = set_internet_freq_ordered(df_clean, internet_freq_cols)"
   ]
  },
  {
   "cell_type": "code",
   "execution_count": 43,
   "id": "d82c9178-a818-4843-9c29-7290cfaf25d5",
   "metadata": {
    "scrolled": true
   },
   "outputs": [
    {
     "name": "stdout",
     "output_type": "stream",
     "text": [
      "<class 'pandas.core.frame.DataFrame'>\n",
      "Index: 25512 entries, 0 to 35470\n",
      "Data columns (total 35 columns):\n",
      " #   Column                                 Non-Null Count  Dtype   \n",
      "---  ------                                 --------------  -----   \n",
      " 0   dem_age                                25512 non-null  float64 \n",
      " 1   dem_sex                                25512 non-null  category\n",
      " 2   dem_ethnicity                          25512 non-null  object  \n",
      " 3   dem_urban_rural                        25512 non-null  category\n",
      " 4   dem_education_level                    25512 non-null  category\n",
      " 5   dem_income                             25512 non-null  float32 \n",
      " 6   dem_emp_status                         25512 non-null  category\n",
      " 7   dem_marital_status                     25512 non-null  category\n",
      " 8   household_size                         25512 non-null  category\n",
      " 9   responsible_for_child                  25512 non-null  category\n",
      " 10  provides_care                          25512 non-null  category\n",
      " 11  social_has_friends                     25512 non-null  category\n",
      " 12  social_has_family                      25512 non-null  category\n",
      " 13  has_longterm_illness                   25512 non-null  category\n",
      " 14  general_health_rating                  25512 non-null  float64 \n",
      " 15  health_limits_moderate_activity        25512 non-null  float64 \n",
      " 16  health_limits_stairs                   25512 non-null  float64 \n",
      " 17  health_limits_daily_activities_amount  25512 non-null  float64 \n",
      " 18  health_limits_work_type                25512 non-null  float64 \n",
      " 19  health_pain_interferse_activity_type   25512 non-null  float64 \n",
      " 20  internet_browse_freq                   25512 non-null  category\n",
      " 21  internet_email_freq                    25512 non-null  category\n",
      " 22  internet_social_media_view_freq        25512 non-null  category\n",
      " 23  social_general_trust                   25512 non-null  float64 \n",
      " 24  internet_social_media_post_freq        25512 non-null  category\n",
      " 25  internet_shopping_freq                 25512 non-null  category\n",
      " 26  internet_banking_freq                  25512 non-null  category\n",
      " 27  internet_gaming_freq                   25512 non-null  category\n",
      " 28  internet_video_streaming_freq          25512 non-null  category\n",
      " 29  internet_music_streaming_freq          25512 non-null  category\n",
      " 30  is_smoker                              25512 non-null  category\n",
      " 31  financial_situation_current            25512 non-null  float64 \n",
      " 32  financial_situation_future             25512 non-null  float64 \n",
      " 33  ghq_binary                             25512 non-null  float64 \n",
      " 34  UCLA_loneliness_score                  25512 non-null  float64 \n",
      "dtypes: category(21), float32(1), float64(12), object(1)\n",
      "memory usage: 3.3+ MB\n"
     ]
    }
   ],
   "source": [
    "df_clean.info()"
   ]
  },
  {
   "cell_type": "code",
   "execution_count": 44,
   "id": "160600a7-8a18-4a62-b1c8-7d5b3b4033da",
   "metadata": {},
   "outputs": [],
   "source": [
    "def set_financial_current_ordered(df, col=\"financial_situation_current\"):\n",
    "    \n",
    "    ordered_levels = [\n",
    "        \"Living comfortably\",\n",
    "        \"Doing alright\",\n",
    "        \"Just about getting by\",\n",
    "        \"Finding it quite difficult\",\n",
    "        \"Finding it very difficult\",\n",
    "    ]\n",
    "\n",
    "    label_map = {\n",
    "        1: \"Living comfortably\",\n",
    "        2: \"Doing alright\",\n",
    "        3: \"Just about getting by\",\n",
    "        4: \"Finding it quite difficult\",\n",
    "        5: \"Finding it very difficult\",\n",
    "    }\n",
    "\n",
    "    # Przekształć dane numeryczne (1..5) na etykiety słowne\n",
    "    s = pd.to_numeric(df[col], errors=\"coerce\")\n",
    "\n",
    "    if s.notna().sum() > 0:\n",
    "        # dane to liczby — przemapuj\n",
    "        labels = s.map(label_map)\n",
    "    else:\n",
    "        # dane to tekst — użyj ich bez zmian\n",
    "        labels = df[col].astype(\"string\").str.strip()\n",
    "\n",
    "    # Ustaw uporządkowaną kategorię\n",
    "    df[col] = pd.Categorical(labels, categories=ordered_levels, ordered=True)\n",
    "\n",
    "    # Dodaj kody 0..4 (a -1 to brak danych)\n",
    "    df[col + \"_code\"] = df[col].cat.codes\n",
    "\n",
    "    return df\n"
   ]
  },
  {
   "cell_type": "code",
   "execution_count": 45,
   "id": "0ae1b4a1-fdbf-4ff0-acca-24bdd774f28f",
   "metadata": {},
   "outputs": [],
   "source": [
    "df_clean = set_financial_current_ordered(df_clean, col=\"financial_situation_current\")"
   ]
  },
  {
   "cell_type": "code",
   "execution_count": 46,
   "id": "2d739055-a8b6-4b0c-8a5e-3ec5c6d78779",
   "metadata": {},
   "outputs": [
    {
     "name": "stdout",
     "output_type": "stream",
     "text": [
      "<class 'pandas.core.frame.DataFrame'>\n",
      "Index: 25512 entries, 0 to 35470\n",
      "Data columns (total 36 columns):\n",
      " #   Column                                 Non-Null Count  Dtype   \n",
      "---  ------                                 --------------  -----   \n",
      " 0   dem_age                                25512 non-null  float64 \n",
      " 1   dem_sex                                25512 non-null  category\n",
      " 2   dem_ethnicity                          25512 non-null  object  \n",
      " 3   dem_urban_rural                        25512 non-null  category\n",
      " 4   dem_education_level                    25512 non-null  category\n",
      " 5   dem_income                             25512 non-null  float32 \n",
      " 6   dem_emp_status                         25512 non-null  category\n",
      " 7   dem_marital_status                     25512 non-null  category\n",
      " 8   household_size                         25512 non-null  category\n",
      " 9   responsible_for_child                  25512 non-null  category\n",
      " 10  provides_care                          25512 non-null  category\n",
      " 11  social_has_friends                     25512 non-null  category\n",
      " 12  social_has_family                      25512 non-null  category\n",
      " 13  has_longterm_illness                   25512 non-null  category\n",
      " 14  general_health_rating                  25512 non-null  float64 \n",
      " 15  health_limits_moderate_activity        25512 non-null  float64 \n",
      " 16  health_limits_stairs                   25512 non-null  float64 \n",
      " 17  health_limits_daily_activities_amount  25512 non-null  float64 \n",
      " 18  health_limits_work_type                25512 non-null  float64 \n",
      " 19  health_pain_interferse_activity_type   25512 non-null  float64 \n",
      " 20  internet_browse_freq                   25512 non-null  category\n",
      " 21  internet_email_freq                    25512 non-null  category\n",
      " 22  internet_social_media_view_freq        25512 non-null  category\n",
      " 23  social_general_trust                   25512 non-null  float64 \n",
      " 24  internet_social_media_post_freq        25512 non-null  category\n",
      " 25  internet_shopping_freq                 25512 non-null  category\n",
      " 26  internet_banking_freq                  25512 non-null  category\n",
      " 27  internet_gaming_freq                   25512 non-null  category\n",
      " 28  internet_video_streaming_freq          25512 non-null  category\n",
      " 29  internet_music_streaming_freq          25512 non-null  category\n",
      " 30  is_smoker                              25512 non-null  category\n",
      " 31  financial_situation_current            25512 non-null  category\n",
      " 32  financial_situation_future             25512 non-null  float64 \n",
      " 33  ghq_binary                             25512 non-null  float64 \n",
      " 34  UCLA_loneliness_score                  25512 non-null  float64 \n",
      " 35  financial_situation_current_code       25512 non-null  int8    \n",
      "dtypes: category(22), float32(1), float64(11), int8(1), object(1)\n",
      "memory usage: 3.2+ MB\n"
     ]
    }
   ],
   "source": [
    "df_clean.info()"
   ]
  },
  {
   "cell_type": "code",
   "execution_count": 47,
   "id": "3b7b31a3-da52-45cc-91c6-ffe34b49bdba",
   "metadata": {},
   "outputs": [
    {
     "name": "stdout",
     "output_type": "stream",
     "text": [
      "0                Doing alright\n",
      "1    Finding it very difficult\n",
      "2        Just about getting by\n",
      "3        Just about getting by\n",
      "4                Doing alright\n",
      "Name: financial_situation_current, dtype: category\n",
      "Categories (5, object): ['Living comfortably' < 'Doing alright' < 'Just about getting by' < 'Finding it quite difficult' < 'Finding it very difficult']\n",
      "category\n",
      "Index(['Living comfortably', 'Doing alright', 'Just about getting by',\n",
      "       'Finding it quite difficult', 'Finding it very difficult'],\n",
      "      dtype='object')\n",
      "financial_situation_current\n",
      "Doing alright                 11054\n",
      "Living comfortably             6686\n",
      "Just about getting by          5509\n",
      "Finding it quite difficult     1702\n",
      "Finding it very difficult       561\n",
      "Name: count, dtype: int64\n",
      "[1 4 2 0 3]\n"
     ]
    }
   ],
   "source": [
    "print(df_clean[\"financial_situation_current\"].head())\n",
    "print(df_clean[\"financial_situation_current\"].dtype)\n",
    "print(df_clean[\"financial_situation_current\"].cat.categories)\n",
    "print(df_clean[\"financial_situation_current\"].value_counts(dropna=False))\n",
    "print(df_clean[\"financial_situation_current\"].cat.codes.unique())"
   ]
  },
  {
   "cell_type": "code",
   "execution_count": 48,
   "id": "a3dcfda2-644a-4c0f-831f-db5e1db47e5a",
   "metadata": {},
   "outputs": [],
   "source": [
    "df_clean = set_financial_current_ordered(df_clean)"
   ]
  },
  {
   "cell_type": "code",
   "execution_count": 49,
   "id": "742a5160-b52b-4193-9a11-63b9f250dd1f",
   "metadata": {},
   "outputs": [],
   "source": [
    "def set_financial_future_ordered(df, col=\"financial_situation_future\"):\n",
    "    \n",
    "    s = pd.to_numeric(df[col], errors=\"coerce\")\n",
    "\n",
    "    \n",
    "    label_map = {\n",
    "        1: \"Better off\",\n",
    "        2: \"Worse off than now\",\n",
    "        3: \"About the same\",\n",
    "    }\n",
    "    \n",
    "    ordered_levels = [\n",
    "        \"Better off\",\n",
    "        \"About the same\",\n",
    "        \"Worse off than now\",\n",
    "    ]\n",
    "\n",
    "    df[col] = pd.Categorical(s.map(label_map), categories=ordered_levels, ordered=True)\n",
    "    return df"
   ]
  },
  {
   "cell_type": "code",
   "execution_count": 50,
   "id": "d6d43dcc-c24f-4df9-8dfb-5397d2314666",
   "metadata": {},
   "outputs": [],
   "source": [
    "df_clean = set_financial_future_ordered(df_clean, col=\"financial_situation_future\")"
   ]
  },
  {
   "cell_type": "code",
   "execution_count": 51,
   "id": "7756fc79-1c68-44b3-b4bf-fbde64092600",
   "metadata": {},
   "outputs": [
    {
     "name": "stdout",
     "output_type": "stream",
     "text": [
      "<class 'pandas.core.frame.DataFrame'>\n",
      "Index: 25512 entries, 0 to 35470\n",
      "Data columns (total 36 columns):\n",
      " #   Column                                 Non-Null Count  Dtype   \n",
      "---  ------                                 --------------  -----   \n",
      " 0   dem_age                                25512 non-null  float64 \n",
      " 1   dem_sex                                25512 non-null  category\n",
      " 2   dem_ethnicity                          25512 non-null  object  \n",
      " 3   dem_urban_rural                        25512 non-null  category\n",
      " 4   dem_education_level                    25512 non-null  category\n",
      " 5   dem_income                             25512 non-null  float32 \n",
      " 6   dem_emp_status                         25512 non-null  category\n",
      " 7   dem_marital_status                     25512 non-null  category\n",
      " 8   household_size                         25512 non-null  category\n",
      " 9   responsible_for_child                  25512 non-null  category\n",
      " 10  provides_care                          25512 non-null  category\n",
      " 11  social_has_friends                     25512 non-null  category\n",
      " 12  social_has_family                      25512 non-null  category\n",
      " 13  has_longterm_illness                   25512 non-null  category\n",
      " 14  general_health_rating                  25512 non-null  float64 \n",
      " 15  health_limits_moderate_activity        25512 non-null  float64 \n",
      " 16  health_limits_stairs                   25512 non-null  float64 \n",
      " 17  health_limits_daily_activities_amount  25512 non-null  float64 \n",
      " 18  health_limits_work_type                25512 non-null  float64 \n",
      " 19  health_pain_interferse_activity_type   25512 non-null  float64 \n",
      " 20  internet_browse_freq                   25512 non-null  category\n",
      " 21  internet_email_freq                    25512 non-null  category\n",
      " 22  internet_social_media_view_freq        25512 non-null  category\n",
      " 23  social_general_trust                   25512 non-null  float64 \n",
      " 24  internet_social_media_post_freq        25512 non-null  category\n",
      " 25  internet_shopping_freq                 25512 non-null  category\n",
      " 26  internet_banking_freq                  25512 non-null  category\n",
      " 27  internet_gaming_freq                   25512 non-null  category\n",
      " 28  internet_video_streaming_freq          25512 non-null  category\n",
      " 29  internet_music_streaming_freq          25512 non-null  category\n",
      " 30  is_smoker                              25512 non-null  category\n",
      " 31  financial_situation_current            25512 non-null  category\n",
      " 32  financial_situation_future             25512 non-null  category\n",
      " 33  ghq_binary                             25512 non-null  float64 \n",
      " 34  UCLA_loneliness_score                  25512 non-null  float64 \n",
      " 35  financial_situation_current_code       25512 non-null  int8    \n",
      "dtypes: category(23), float32(1), float64(10), int8(1), object(1)\n",
      "memory usage: 3.0+ MB\n"
     ]
    }
   ],
   "source": [
    "df_clean.info()"
   ]
  },
  {
   "cell_type": "code",
   "execution_count": 52,
   "id": "4f26e422-70ae-4667-9e8d-f01fbf52d75e",
   "metadata": {},
   "outputs": [],
   "source": [
    "def set_general_health_ordered(df, col='general_health_rating'):\n",
    "    \n",
    "    s = pd.to_numeric(df[col], errors=\"coerce\")\n",
    "\n",
    "    label_map = {\n",
    "        1: \"Excellent\",\n",
    "        2: \"Very Good\",\n",
    "        3: \"Good\",\n",
    "        4: \"Fair\",\n",
    "        5: \"Poor\"\n",
    "    }\n",
    "\n",
    "    ordered_levels = [\n",
    "        \"Excellent\",\n",
    "        \"Very Good\",\n",
    "        \"Good\",\n",
    "        \"Fair\",\n",
    "        \"Poor\"\n",
    "    ]\n",
    "\n",
    "    df[col] = pd.Categorical(s.map(label_map), categories=ordered_levels, ordered=True)\n",
    "    return df"
   ]
  },
  {
   "cell_type": "code",
   "execution_count": 53,
   "id": "638ef7d3-a5e9-4f45-8151-5908cfad68ce",
   "metadata": {},
   "outputs": [],
   "source": [
    "df_clean = set_general_health_ordered(df_clean, col=\"general_health_rating\")"
   ]
  },
  {
   "cell_type": "code",
   "execution_count": 54,
   "id": "99580480-4f05-4e65-a0ee-339ed6493413",
   "metadata": {},
   "outputs": [
    {
     "data": {
      "text/plain": [
       "general_health_rating\n",
       "Good         9126\n",
       "Very Good    8377\n",
       "Fair         4245\n",
       "Excellent    2449\n",
       "Poor         1315\n",
       "Name: count, dtype: int64"
      ]
     },
     "execution_count": 54,
     "metadata": {},
     "output_type": "execute_result"
    }
   ],
   "source": [
    "df_clean['general_health_rating'].value_counts()"
   ]
  },
  {
   "cell_type": "code",
   "execution_count": 55,
   "id": "5c0051f1-37ea-45c4-ad65-c544b31edfa4",
   "metadata": {},
   "outputs": [],
   "source": [
    "health_limits_cols = [\n",
    "    \"health_limits_daily_activities_amount\",\n",
    "    \"health_limits_work_type\",\n",
    "]\n",
    "\n",
    "def set_role_physical_limits(df, cols):\n",
    "    label_map = {\n",
    "        1: \"All of the time\",\n",
    "        2: \"Most of the time\",\n",
    "        3: \"Some of the time\",\n",
    "        4: \"A little of the time\",\n",
    "        5: \"None of the time\",\n",
    "    }\n",
    "    # Porządek od najlepszego do najgorszego (ułatwia kody 0..4)\n",
    "    ordered_levels = [\n",
    "        \"None of the time\",\n",
    "        \"A little of the time\",\n",
    "        \"Some of the time\",\n",
    "        \"Most of the time\",\n",
    "        \"All of the time\",\n",
    "    ]\n",
    "    for col in cols:\n",
    "        s = pd.to_numeric(df[col], errors=\"coerce\")\n",
    "        df[col] = pd.Categorical(s.map(label_map), categories=ordered_levels, ordered=True)\n",
    "    return df"
   ]
  },
  {
   "cell_type": "code",
   "execution_count": 56,
   "id": "b7bb6784-bf05-4d8d-8759-c0bddc938328",
   "metadata": {},
   "outputs": [],
   "source": [
    "df_clean = set_role_physical_limits(df_clean, health_limits_cols)"
   ]
  },
  {
   "cell_type": "code",
   "execution_count": 57,
   "id": "887b4e22-0ee2-4d07-aff5-2a4ab35aaa7e",
   "metadata": {
    "scrolled": true
   },
   "outputs": [
    {
     "name": "stdout",
     "output_type": "stream",
     "text": [
      "<class 'pandas.core.frame.DataFrame'>\n",
      "Index: 25512 entries, 0 to 35470\n",
      "Data columns (total 36 columns):\n",
      " #   Column                                 Non-Null Count  Dtype   \n",
      "---  ------                                 --------------  -----   \n",
      " 0   dem_age                                25512 non-null  float64 \n",
      " 1   dem_sex                                25512 non-null  category\n",
      " 2   dem_ethnicity                          25512 non-null  object  \n",
      " 3   dem_urban_rural                        25512 non-null  category\n",
      " 4   dem_education_level                    25512 non-null  category\n",
      " 5   dem_income                             25512 non-null  float32 \n",
      " 6   dem_emp_status                         25512 non-null  category\n",
      " 7   dem_marital_status                     25512 non-null  category\n",
      " 8   household_size                         25512 non-null  category\n",
      " 9   responsible_for_child                  25512 non-null  category\n",
      " 10  provides_care                          25512 non-null  category\n",
      " 11  social_has_friends                     25512 non-null  category\n",
      " 12  social_has_family                      25512 non-null  category\n",
      " 13  has_longterm_illness                   25512 non-null  category\n",
      " 14  general_health_rating                  25512 non-null  category\n",
      " 15  health_limits_moderate_activity        25512 non-null  float64 \n",
      " 16  health_limits_stairs                   25512 non-null  float64 \n",
      " 17  health_limits_daily_activities_amount  25512 non-null  category\n",
      " 18  health_limits_work_type                25512 non-null  category\n",
      " 19  health_pain_interferse_activity_type   25512 non-null  float64 \n",
      " 20  internet_browse_freq                   25512 non-null  category\n",
      " 21  internet_email_freq                    25512 non-null  category\n",
      " 22  internet_social_media_view_freq        25512 non-null  category\n",
      " 23  social_general_trust                   25512 non-null  float64 \n",
      " 24  internet_social_media_post_freq        25512 non-null  category\n",
      " 25  internet_shopping_freq                 25512 non-null  category\n",
      " 26  internet_banking_freq                  25512 non-null  category\n",
      " 27  internet_gaming_freq                   25512 non-null  category\n",
      " 28  internet_video_streaming_freq          25512 non-null  category\n",
      " 29  internet_music_streaming_freq          25512 non-null  category\n",
      " 30  is_smoker                              25512 non-null  category\n",
      " 31  financial_situation_current            25512 non-null  category\n",
      " 32  financial_situation_future             25512 non-null  category\n",
      " 33  ghq_binary                             25512 non-null  float64 \n",
      " 34  UCLA_loneliness_score                  25512 non-null  float64 \n",
      " 35  financial_situation_current_code       25512 non-null  int8    \n",
      "dtypes: category(26), float32(1), float64(7), int8(1), object(1)\n",
      "memory usage: 2.5+ MB\n"
     ]
    }
   ],
   "source": [
    "df_clean.info()"
   ]
  },
  {
   "cell_type": "code",
   "execution_count": 58,
   "id": "a2d48b0b-eca9-464e-94b4-6492bdfb32d2",
   "metadata": {},
   "outputs": [
    {
     "name": "stdout",
     "output_type": "stream",
     "text": [
      "(25512, 36)\n"
     ]
    }
   ],
   "source": [
    "print(df_clean.shape)"
   ]
  },
  {
   "cell_type": "code",
   "execution_count": 59,
   "id": "8c0fc5c2-77bc-4085-83d9-ef5949c5f082",
   "metadata": {},
   "outputs": [],
   "source": [
    "def set_pain_interference(df_clean, col=\"health_pain_interferse_activity_type\"):\n",
    "    s = pd.to_numeric(df_clean[col], errors=\"coerce\")\n",
    "\n",
    "    label_map = {\n",
    "        1: \"All of the time\",\n",
    "        2: \"Most of the time\",\n",
    "        3: \"Some of the time\",\n",
    "        4: \"A little of the time\",\n",
    "        5: \"None of the time\",\n",
    "    }\n",
    "\n",
    "    ordered_levels = [\n",
    "        \"None of the time\",\n",
    "        \"A little of the time\",\n",
    "        \"Some of the time\",\n",
    "        \"Most of the time\",\n",
    "        \"All of the time\",\n",
    "    ]  \n",
    "\n",
    "    df_clean[col] = pd.Categorical(s.map(label_map), categories=ordered_levels, ordered=True)\n",
    "    return df_clean"
   ]
  },
  {
   "cell_type": "code",
   "execution_count": 60,
   "id": "f8720224-5944-4b1f-b380-83dafa299cd6",
   "metadata": {},
   "outputs": [],
   "source": [
    "df_clean = set_pain_interference(df_clean, col='health_pain_interferse_activity_type')"
   ]
  },
  {
   "cell_type": "code",
   "execution_count": 61,
   "id": "307fa625-0268-4b86-86e5-4ee221565b5b",
   "metadata": {},
   "outputs": [],
   "source": [
    "\n",
    "health_limits_specific_cols = [\n",
    "    \"health_limits_moderate_activity\",\n",
    "    \"health_limits_stairs\",\n",
    "]\n",
    "\n",
    "def set_health_limits_ordered(df, cols):\n",
    "    \n",
    "    ordered_levels = [\n",
    "        \"No, not limited at all\",\n",
    "        \"Yes, limited a little\",\n",
    "        \"Yes, limited a lot\",\n",
    "    ]\n",
    "    label_map = {\n",
    "        1: \"Yes, limited a lot\",\n",
    "        2: \"Yes, limited a little\",\n",
    "        3: \"No, not limited at all\",\n",
    "    }\n",
    "    for col in cols:\n",
    "        \n",
    "        s = pd.to_numeric(df[col], errors=\"coerce\")\n",
    "        \n",
    "        df[col] = pd.Categorical(s.map(label_map), categories=ordered_levels, ordered=True)\n",
    "    return df"
   ]
  },
  {
   "cell_type": "code",
   "execution_count": 62,
   "id": "7f62a33a-b833-44c7-b79b-76cff04dbca7",
   "metadata": {
    "scrolled": true
   },
   "outputs": [
    {
     "name": "stdout",
     "output_type": "stream",
     "text": [
      "<class 'pandas.core.frame.DataFrame'>\n",
      "Index: 25512 entries, 0 to 35470\n",
      "Data columns (total 36 columns):\n",
      " #   Column                                 Non-Null Count  Dtype   \n",
      "---  ------                                 --------------  -----   \n",
      " 0   dem_age                                25512 non-null  float64 \n",
      " 1   dem_sex                                25512 non-null  category\n",
      " 2   dem_ethnicity                          25512 non-null  object  \n",
      " 3   dem_urban_rural                        25512 non-null  category\n",
      " 4   dem_education_level                    25512 non-null  category\n",
      " 5   dem_income                             25512 non-null  float32 \n",
      " 6   dem_emp_status                         25512 non-null  category\n",
      " 7   dem_marital_status                     25512 non-null  category\n",
      " 8   household_size                         25512 non-null  category\n",
      " 9   responsible_for_child                  25512 non-null  category\n",
      " 10  provides_care                          25512 non-null  category\n",
      " 11  social_has_friends                     25512 non-null  category\n",
      " 12  social_has_family                      25512 non-null  category\n",
      " 13  has_longterm_illness                   25512 non-null  category\n",
      " 14  general_health_rating                  25512 non-null  category\n",
      " 15  health_limits_moderate_activity        25512 non-null  float64 \n",
      " 16  health_limits_stairs                   25512 non-null  float64 \n",
      " 17  health_limits_daily_activities_amount  25512 non-null  category\n",
      " 18  health_limits_work_type                25512 non-null  category\n",
      " 19  health_pain_interferse_activity_type   25512 non-null  category\n",
      " 20  internet_browse_freq                   25512 non-null  category\n",
      " 21  internet_email_freq                    25512 non-null  category\n",
      " 22  internet_social_media_view_freq        25512 non-null  category\n",
      " 23  social_general_trust                   25512 non-null  float64 \n",
      " 24  internet_social_media_post_freq        25512 non-null  category\n",
      " 25  internet_shopping_freq                 25512 non-null  category\n",
      " 26  internet_banking_freq                  25512 non-null  category\n",
      " 27  internet_gaming_freq                   25512 non-null  category\n",
      " 28  internet_video_streaming_freq          25512 non-null  category\n",
      " 29  internet_music_streaming_freq          25512 non-null  category\n",
      " 30  is_smoker                              25512 non-null  category\n",
      " 31  financial_situation_current            25512 non-null  category\n",
      " 32  financial_situation_future             25512 non-null  category\n",
      " 33  ghq_binary                             25512 non-null  float64 \n",
      " 34  UCLA_loneliness_score                  25512 non-null  float64 \n",
      " 35  financial_situation_current_code       25512 non-null  int8    \n",
      "dtypes: category(27), float32(1), float64(6), int8(1), object(1)\n",
      "memory usage: 2.3+ MB\n"
     ]
    }
   ],
   "source": [
    "df_clean.info()"
   ]
  },
  {
   "cell_type": "code",
   "execution_count": 63,
   "id": "2b0c5aa4-6c2d-400a-a9c6-89a63a321f74",
   "metadata": {
    "scrolled": true
   },
   "outputs": [
    {
     "data": {
      "text/html": [
       "<div>\n",
       "<style scoped>\n",
       "    .dataframe tbody tr th:only-of-type {\n",
       "        vertical-align: middle;\n",
       "    }\n",
       "\n",
       "    .dataframe tbody tr th {\n",
       "        vertical-align: top;\n",
       "    }\n",
       "\n",
       "    .dataframe thead th {\n",
       "        text-align: right;\n",
       "    }\n",
       "</style>\n",
       "<table border=\"1\" class=\"dataframe\">\n",
       "  <thead>\n",
       "    <tr style=\"text-align: right;\">\n",
       "      <th></th>\n",
       "      <th>Total</th>\n",
       "      <th>Percent</th>\n",
       "    </tr>\n",
       "  </thead>\n",
       "  <tbody>\n",
       "    <tr>\n",
       "      <th>dem_age</th>\n",
       "      <td>0</td>\n",
       "      <td>0.0</td>\n",
       "    </tr>\n",
       "    <tr>\n",
       "      <th>dem_sex</th>\n",
       "      <td>0</td>\n",
       "      <td>0.0</td>\n",
       "    </tr>\n",
       "    <tr>\n",
       "      <th>dem_ethnicity</th>\n",
       "      <td>0</td>\n",
       "      <td>0.0</td>\n",
       "    </tr>\n",
       "    <tr>\n",
       "      <th>dem_urban_rural</th>\n",
       "      <td>0</td>\n",
       "      <td>0.0</td>\n",
       "    </tr>\n",
       "    <tr>\n",
       "      <th>dem_education_level</th>\n",
       "      <td>0</td>\n",
       "      <td>0.0</td>\n",
       "    </tr>\n",
       "    <tr>\n",
       "      <th>dem_income</th>\n",
       "      <td>0</td>\n",
       "      <td>0.0</td>\n",
       "    </tr>\n",
       "    <tr>\n",
       "      <th>dem_emp_status</th>\n",
       "      <td>0</td>\n",
       "      <td>0.0</td>\n",
       "    </tr>\n",
       "    <tr>\n",
       "      <th>dem_marital_status</th>\n",
       "      <td>0</td>\n",
       "      <td>0.0</td>\n",
       "    </tr>\n",
       "    <tr>\n",
       "      <th>household_size</th>\n",
       "      <td>0</td>\n",
       "      <td>0.0</td>\n",
       "    </tr>\n",
       "    <tr>\n",
       "      <th>responsible_for_child</th>\n",
       "      <td>0</td>\n",
       "      <td>0.0</td>\n",
       "    </tr>\n",
       "    <tr>\n",
       "      <th>provides_care</th>\n",
       "      <td>0</td>\n",
       "      <td>0.0</td>\n",
       "    </tr>\n",
       "    <tr>\n",
       "      <th>social_has_friends</th>\n",
       "      <td>0</td>\n",
       "      <td>0.0</td>\n",
       "    </tr>\n",
       "    <tr>\n",
       "      <th>social_has_family</th>\n",
       "      <td>0</td>\n",
       "      <td>0.0</td>\n",
       "    </tr>\n",
       "    <tr>\n",
       "      <th>has_longterm_illness</th>\n",
       "      <td>0</td>\n",
       "      <td>0.0</td>\n",
       "    </tr>\n",
       "    <tr>\n",
       "      <th>general_health_rating</th>\n",
       "      <td>0</td>\n",
       "      <td>0.0</td>\n",
       "    </tr>\n",
       "    <tr>\n",
       "      <th>health_limits_moderate_activity</th>\n",
       "      <td>0</td>\n",
       "      <td>0.0</td>\n",
       "    </tr>\n",
       "    <tr>\n",
       "      <th>health_limits_stairs</th>\n",
       "      <td>0</td>\n",
       "      <td>0.0</td>\n",
       "    </tr>\n",
       "    <tr>\n",
       "      <th>health_limits_daily_activities_amount</th>\n",
       "      <td>0</td>\n",
       "      <td>0.0</td>\n",
       "    </tr>\n",
       "    <tr>\n",
       "      <th>health_limits_work_type</th>\n",
       "      <td>0</td>\n",
       "      <td>0.0</td>\n",
       "    </tr>\n",
       "    <tr>\n",
       "      <th>health_pain_interferse_activity_type</th>\n",
       "      <td>0</td>\n",
       "      <td>0.0</td>\n",
       "    </tr>\n",
       "    <tr>\n",
       "      <th>internet_browse_freq</th>\n",
       "      <td>0</td>\n",
       "      <td>0.0</td>\n",
       "    </tr>\n",
       "    <tr>\n",
       "      <th>internet_email_freq</th>\n",
       "      <td>0</td>\n",
       "      <td>0.0</td>\n",
       "    </tr>\n",
       "    <tr>\n",
       "      <th>internet_social_media_view_freq</th>\n",
       "      <td>0</td>\n",
       "      <td>0.0</td>\n",
       "    </tr>\n",
       "    <tr>\n",
       "      <th>social_general_trust</th>\n",
       "      <td>0</td>\n",
       "      <td>0.0</td>\n",
       "    </tr>\n",
       "    <tr>\n",
       "      <th>internet_social_media_post_freq</th>\n",
       "      <td>0</td>\n",
       "      <td>0.0</td>\n",
       "    </tr>\n",
       "    <tr>\n",
       "      <th>internet_shopping_freq</th>\n",
       "      <td>0</td>\n",
       "      <td>0.0</td>\n",
       "    </tr>\n",
       "    <tr>\n",
       "      <th>internet_banking_freq</th>\n",
       "      <td>0</td>\n",
       "      <td>0.0</td>\n",
       "    </tr>\n",
       "    <tr>\n",
       "      <th>internet_gaming_freq</th>\n",
       "      <td>0</td>\n",
       "      <td>0.0</td>\n",
       "    </tr>\n",
       "    <tr>\n",
       "      <th>internet_video_streaming_freq</th>\n",
       "      <td>0</td>\n",
       "      <td>0.0</td>\n",
       "    </tr>\n",
       "    <tr>\n",
       "      <th>internet_music_streaming_freq</th>\n",
       "      <td>0</td>\n",
       "      <td>0.0</td>\n",
       "    </tr>\n",
       "    <tr>\n",
       "      <th>is_smoker</th>\n",
       "      <td>0</td>\n",
       "      <td>0.0</td>\n",
       "    </tr>\n",
       "    <tr>\n",
       "      <th>financial_situation_current</th>\n",
       "      <td>0</td>\n",
       "      <td>0.0</td>\n",
       "    </tr>\n",
       "    <tr>\n",
       "      <th>financial_situation_future</th>\n",
       "      <td>0</td>\n",
       "      <td>0.0</td>\n",
       "    </tr>\n",
       "    <tr>\n",
       "      <th>ghq_binary</th>\n",
       "      <td>0</td>\n",
       "      <td>0.0</td>\n",
       "    </tr>\n",
       "    <tr>\n",
       "      <th>UCLA_loneliness_score</th>\n",
       "      <td>0</td>\n",
       "      <td>0.0</td>\n",
       "    </tr>\n",
       "    <tr>\n",
       "      <th>financial_situation_current_code</th>\n",
       "      <td>0</td>\n",
       "      <td>0.0</td>\n",
       "    </tr>\n",
       "  </tbody>\n",
       "</table>\n",
       "</div>"
      ],
      "text/plain": [
       "                                       Total  Percent\n",
       "dem_age                                    0      0.0\n",
       "dem_sex                                    0      0.0\n",
       "dem_ethnicity                              0      0.0\n",
       "dem_urban_rural                            0      0.0\n",
       "dem_education_level                        0      0.0\n",
       "dem_income                                 0      0.0\n",
       "dem_emp_status                             0      0.0\n",
       "dem_marital_status                         0      0.0\n",
       "household_size                             0      0.0\n",
       "responsible_for_child                      0      0.0\n",
       "provides_care                              0      0.0\n",
       "social_has_friends                         0      0.0\n",
       "social_has_family                          0      0.0\n",
       "has_longterm_illness                       0      0.0\n",
       "general_health_rating                      0      0.0\n",
       "health_limits_moderate_activity            0      0.0\n",
       "health_limits_stairs                       0      0.0\n",
       "health_limits_daily_activities_amount      0      0.0\n",
       "health_limits_work_type                    0      0.0\n",
       "health_pain_interferse_activity_type       0      0.0\n",
       "internet_browse_freq                       0      0.0\n",
       "internet_email_freq                        0      0.0\n",
       "internet_social_media_view_freq            0      0.0\n",
       "social_general_trust                       0      0.0\n",
       "internet_social_media_post_freq            0      0.0\n",
       "internet_shopping_freq                     0      0.0\n",
       "internet_banking_freq                      0      0.0\n",
       "internet_gaming_freq                       0      0.0\n",
       "internet_video_streaming_freq              0      0.0\n",
       "internet_music_streaming_freq              0      0.0\n",
       "is_smoker                                  0      0.0\n",
       "financial_situation_current                0      0.0\n",
       "financial_situation_future                 0      0.0\n",
       "ghq_binary                                 0      0.0\n",
       "UCLA_loneliness_score                      0      0.0\n",
       "financial_situation_current_code           0      0.0"
      ]
     },
     "execution_count": 63,
     "metadata": {},
     "output_type": "execute_result"
    }
   ],
   "source": [
    "# Double check for missing values. \n",
    "total = df_clean.isnull().sum().sort_values(ascending=False)\n",
    "percent = (df_clean.isnull().sum()/df_clean.isnull().count()).sort_values(ascending=False)\n",
    "missing_data = pd.concat([total, percent], axis=1, keys=['Total', 'Percent'])\n",
    "missing_data"
   ]
  },
  {
   "cell_type": "code",
   "execution_count": 64,
   "id": "1617ca17-7d7b-407f-8ecd-241225113413",
   "metadata": {},
   "outputs": [
    {
     "name": "stdout",
     "output_type": "stream",
     "text": [
      "(25512, 36)\n"
     ]
    }
   ],
   "source": [
    "print(df_clean.shape)"
   ]
  },
  {
   "cell_type": "code",
   "execution_count": 65,
   "id": "bd6e85fc-9171-474b-ae06-489ca5113fb3",
   "metadata": {},
   "outputs": [
    {
     "data": {
      "text/plain": [
       "np.float32(-3333.33)"
      ]
     },
     "execution_count": 65,
     "metadata": {},
     "output_type": "execute_result"
    }
   ],
   "source": [
    "df_clean['dem_income'].min()"
   ]
  },
  {
   "cell_type": "markdown",
   "id": "e77a02e8-d2f6-42ad-80a8-25fd771c7eb3",
   "metadata": {},
   "source": [
    "==== Psychological distress outcome variable: GHQ-12 binary transformation and class imbalance ===="
   ]
  },
  {
   "cell_type": "markdown",
   "id": "14f959ff-0dc2-4ba0-b66e-c707db2701b1",
   "metadata": {},
   "source": [
    "==== Target variable creation ===="
   ]
  },
  {
   "cell_type": "code",
   "execution_count": 66,
   "id": "84bba2d2-90df-4d8e-af4c-cb777c9ece47",
   "metadata": {},
   "outputs": [],
   "source": [
    "# Convert to binary\n",
    "GHQ_THRESHOLD = 4\n",
    "df_clean['ghq_binary'] = (df_clean['ghq_binary'] >= GHQ_THRESHOLD).astype(int)\n",
    "\n",
    "class_counts = df_clean['ghq_binary'].value_counts()\n",
    "total_samples = class_counts.sum()\n",
    "class_counts_percentage = (class_counts / total_samples) * 100"
   ]
  },
  {
   "cell_type": "code",
   "execution_count": 67,
   "id": "f6e39abf-b003-4dfb-9aef-f0c8794f1313",
   "metadata": {},
   "outputs": [
    {
     "name": "stdout",
     "output_type": "stream",
     "text": [
      "Number of classes:ghq_binary\n",
      "0    20257\n",
      "1     5255\n",
      "Name: count, dtype: int64\n",
      "Number of samples: 25512\n",
      "Percentage: ghq_binary\n",
      "0    79.40185\n",
      "1    20.59815\n",
      "Name: count, dtype: float64\n"
     ]
    }
   ],
   "source": [
    "print(f\"Number of classes:{class_counts}\")\n",
    "print(f\"Number of samples: {total_samples}\")\n",
    "print(f\"Percentage: {class_counts_percentage}\")"
   ]
  },
  {
   "cell_type": "code",
   "execution_count": 68,
   "id": "be978985-680c-411a-b5e6-9195e5b0653c",
   "metadata": {},
   "outputs": [
    {
     "name": "stdout",
     "output_type": "stream",
     "text": [
      "Saving figure imbalanced-1.png\n"
     ]
    },
    {
     "data": {
      "image/png": "[encoded data removed]",
      "text/plain": [
       "<Figure size 1000x500 with 1 Axes>"
      ]
     },
     "metadata": {},
     "output_type": "display_data"
    }
   ],
   "source": [
    "plt.figure(figsize=(10,5))\n",
    "ax = sns.countplot(x=df_clean['ghq_binary'], \n",
    "              hue=df_clean['ghq_binary'], \n",
    "              palette='colorblind', \n",
    "              legend=True)\n",
    "plt.xticks([0,1], labels=['Not Distressed (0)', 'Distressed (1)'])\n",
    "ax.set_xlabel(\"GHQ12 caseness\")\n",
    "ax.set_ylabel(\"Count\")\n",
    "plt.title(\"Psychological Distress Distribution (GHQ-12 ≥ 4)\")\n",
    "\n",
    "handles, labels = ax.get_legend_handles_labels()\n",
    "ax.legend(handles, ['Not Distressed', 'Distressed'], title='Status')\n",
    "\n",
    "plt.tight_layout()\n",
    "save_fig(\"imbalanced-1.png\")\n",
    "plt.show()"
   ]
  },
  {
   "cell_type": "code",
   "execution_count": 69,
   "id": "302e588b-a6be-4884-b779-7602be21deba",
   "metadata": {},
   "outputs": [
    {
     "name": "stdout",
     "output_type": "stream",
     "text": [
      "Saving figure Distribution\n"
     ]
    },
    {
     "data": {
      "image/png": "[encoded data removed]",
      "text/plain": [
       "<Figure size 1000x600 with 2 Axes>"
      ]
     },
     "metadata": {},
     "output_type": "display_data"
    }
   ],
   "source": [
    "#### Income is known to be right skewed #### \n",
    "#### Hist confirms that the income is right-skewed ####\n",
    "#### Ogon ciagnie sie w prawo (najbogatsi) ####\n",
    "#### The logtransformation is used to reduce skewness of a\n",
    "#### measurement variable. #####\n",
    "#### Ekstremalnie skweded (18.655525) ####\n",
    "#### Leave it as it is - RF, MLP, XGB and SVM do not assume normally \n",
    "#### distributed features #####\n",
    "\n",
    "df_clean[['dem_income','dem_age']].hist(bins=50, figsize=(10,6))\n",
    "save_fig('Distribution')\n",
    "plt.show()"
   ]
  },
  {
   "cell_type": "code",
   "execution_count": 70,
   "id": "b4a5e758-5790-49b3-bd1b-e14165aeb070",
   "metadata": {},
   "outputs": [
    {
     "data": {
      "text/plain": [
       "dem_age                  -0.038280\n",
       "dem_income               18.201048\n",
       "UCLA_loneliness_score     1.070291\n",
       "dtype: float64"
      ]
     },
     "execution_count": 70,
     "metadata": {},
     "output_type": "execute_result"
    }
   ],
   "source": [
    "#### Check skewness of the data ####\n",
    "df_clean[['dem_age', 'dem_income', 'UCLA_loneliness_score']].skew()"
   ]
  },
  {
   "cell_type": "code",
   "execution_count": 71,
   "id": "da96d6b2-8f05-4863-9c31-c3084b1f3aa8",
   "metadata": {},
   "outputs": [
    {
     "name": "stdout",
     "output_type": "stream",
     "text": [
      "Saving figure QQ Plot\n"
     ]
    },
    {
     "data": {
      "image/png": "[encoded data removed]",
      "text/plain": [
       "<Figure size 1800x600 with 3 Axes>"
      ]
     },
     "metadata": {},
     "output_type": "display_data"
    }
   ],
   "source": [
    "fig, axes = plt.subplots(1, 3, figsize=(18, 6))\n",
    "\n",
    "# Q-Q plot for dem_income\n",
    "stats.probplot(df_clean['dem_income'], dist=\"norm\", plot=axes[0])\n",
    "axes[0].set_title(\"Q–Q Plot: dem_income\")\n",
    "\n",
    "# Q-Q plot for dem_age\n",
    "stats.probplot(df_clean['dem_age'], dist=\"norm\", plot=axes[1])\n",
    "axes[1].set_title(\"Q–Q Plot: dem_age\")\n",
    "\n",
    "# Q-Q plot for dem_age\n",
    "stats.probplot(df_clean['UCLA_loneliness_score'], dist=\"norm\", plot=axes[2])\n",
    "axes[2].set_title(\"Q–Q Plot: UCLA_loneliness_score\")\n",
    "\n",
    "plt.tight_layout()\n",
    "save_fig(\"QQ Plot\")\n",
    "plt.show()"
   ]
  },
  {
   "cell_type": "code",
   "execution_count": 72,
   "id": "7eb7fc6d-59b0-4b83-9288-454ccff29130",
   "metadata": {},
   "outputs": [
    {
     "name": "stdout",
     "output_type": "stream",
     "text": [
      "Shapiro-Wilk p-value: 1.5909995633731263e-52\n"
     ]
    },
    {
     "name": "stderr",
     "output_type": "stream",
     "text": [
      "C:\\Users\\aleks\\shap-env\\lib\\site-packages\\scipy\\stats\\_axis_nan_policy.py:586: UserWarning: scipy.stats.shapiro: For N > 5000, computed p-value may not be accurate. Current N is 25512.\n",
      "  res = hypotest_fun_out(*samples, **kwds)\n"
     ]
    }
   ],
   "source": [
    "# Sprawdź założenia dokładniej:\n",
    "from scipy.stats import shapiro, normaltest\n",
    "\n",
    "# Test normalności\n",
    "stat, p = shapiro(df_clean['dem_age'])\n",
    "print(f\"Shapiro-Wilk p-value: {p}\")\n",
    "\n",
    "# Jeśli p < 0.05, dane nie są normalne -> Mann-Whitney OK"
   ]
  },
  {
   "cell_type": "code",
   "execution_count": 73,
   "id": "e2cf317d-821e-4aec-8785-7104bf0dacb8",
   "metadata": {},
   "outputs": [
    {
     "name": "stdout",
     "output_type": "stream",
     "text": [
      "Shapiro-Wilk p-value: 3.2884781136794844e-126\n"
     ]
    }
   ],
   "source": [
    "stat, p = shapiro(df_clean['dem_income'])\n",
    "print(f\"Shapiro-Wilk p-value: {p}\")"
   ]
  },
  {
   "cell_type": "code",
   "execution_count": 74,
   "id": "0b4bfcc8-3cd0-4d17-b03d-bdfca435c3d7",
   "metadata": {},
   "outputs": [
    {
     "name": "stdout",
     "output_type": "stream",
     "text": [
      "Shapiro-Wilk p-value: 8.951876597545705e-101\n"
     ]
    }
   ],
   "source": [
    "stat, p = shapiro(df_clean['UCLA_loneliness_score'])\n",
    "print(f\"Shapiro-Wilk p-value: {p}\")"
   ]
  },
  {
   "cell_type": "code",
   "execution_count": 75,
   "id": "3cc6aa2e-1249-4fbf-9e04-412403d87a7f",
   "metadata": {},
   "outputs": [],
   "source": [
    "# Bazowane na rzeczywistych kategoriach ekonomicznych\n",
    "def create_income_categories(income):\n",
    "    if income <= 25000:\n",
    "        return 'Low'\n",
    "    elif income <= 50000:\n",
    "        return 'Lower-Middle'\n",
    "    elif income <= 100000:\n",
    "        return 'Middle'\n",
    "    else:\n",
    "        return 'High'\n",
    "\n",
    "df_clean['income_group'] = df_clean['dem_income'].apply(create_income_categories)"
   ]
  },
  {
   "cell_type": "code",
   "execution_count": 76,
   "id": "79f500dc-50db-465b-9abe-41265ac6fecf",
   "metadata": {},
   "outputs": [
    {
     "data": {
      "text/plain": [
       "income_group\n",
       "Low             25482\n",
       "Lower-Middle       22\n",
       "Middle              5\n",
       "High                3\n",
       "Name: count, dtype: int64"
      ]
     },
     "execution_count": 76,
     "metadata": {},
     "output_type": "execute_result"
    }
   ],
   "source": [
    "df_clean['income_group'].value_counts()"
   ]
  },
  {
   "cell_type": "code",
   "execution_count": 77,
   "id": "7212a03a-5585-4372-b7d9-b50ca89a57b3",
   "metadata": {},
   "outputs": [],
   "source": [
    "df_clean = df_clean.drop(['dem_income'], axis=1)"
   ]
  },
  {
   "cell_type": "code",
   "execution_count": 78,
   "id": "89bf0e30-49bf-4d96-9b6b-d62a7f550d0b",
   "metadata": {
    "scrolled": true
   },
   "outputs": [
    {
     "data": {
      "text/plain": [
       "['dem_age',\n",
       " 'dem_sex',\n",
       " 'dem_ethnicity',\n",
       " 'dem_urban_rural',\n",
       " 'dem_education_level',\n",
       " 'dem_emp_status',\n",
       " 'dem_marital_status',\n",
       " 'household_size',\n",
       " 'responsible_for_child',\n",
       " 'provides_care',\n",
       " 'social_has_friends',\n",
       " 'social_has_family',\n",
       " 'has_longterm_illness',\n",
       " 'general_health_rating',\n",
       " 'health_limits_moderate_activity',\n",
       " 'health_limits_stairs',\n",
       " 'health_limits_daily_activities_amount',\n",
       " 'health_limits_work_type',\n",
       " 'health_pain_interferse_activity_type',\n",
       " 'internet_browse_freq',\n",
       " 'internet_email_freq',\n",
       " 'internet_social_media_view_freq',\n",
       " 'social_general_trust',\n",
       " 'internet_social_media_post_freq',\n",
       " 'internet_shopping_freq',\n",
       " 'internet_banking_freq',\n",
       " 'internet_gaming_freq',\n",
       " 'internet_video_streaming_freq',\n",
       " 'internet_music_streaming_freq',\n",
       " 'is_smoker',\n",
       " 'financial_situation_current',\n",
       " 'financial_situation_future',\n",
       " 'ghq_binary',\n",
       " 'UCLA_loneliness_score',\n",
       " 'financial_situation_current_code',\n",
       " 'income_group']"
      ]
     },
     "execution_count": 78,
     "metadata": {},
     "output_type": "execute_result"
    }
   ],
   "source": [
    "df_clean.columns.to_list()"
   ]
  },
  {
   "cell_type": "code",
   "execution_count": 79,
   "id": "2ff10532-0f03-4c80-aa48-405ce5951c05",
   "metadata": {},
   "outputs": [],
   "source": [
    "df_clean = df_clean.drop('financial_situation_current_code', axis=1)"
   ]
  },
  {
   "cell_type": "code",
   "execution_count": 80,
   "id": "c8aff8fc-948e-4800-8a91-9b418390fdb9",
   "metadata": {},
   "outputs": [],
   "source": [
    "# all features # \n",
    "columns = [\n",
    " 'dem_age',\n",
    " 'dem_sex',\n",
    " 'dem_ethnicity',\n",
    " 'dem_urban_rural',\n",
    " 'dem_education_level',\n",
    " 'dem_emp_status',\n",
    " 'dem_marital_status',\n",
    " 'household_size',\n",
    " 'responsible_for_child',\n",
    " 'provides_care',\n",
    " 'social_has_friends',\n",
    " 'social_has_family',\n",
    " 'social_general_trust',\n",
    " 'has_longterm_illness',\n",
    " 'health_limits_moderate_activity',\n",
    " 'health_limits_stairs',\n",
    " 'health_limits_daily_activities_amount',\n",
    " 'health_limits_work_type',\n",
    " 'health_pain_interferse_activity_type',\n",
    " 'internet_browse_freq',\n",
    " 'internet_email_freq',\n",
    " 'internet_social_media_view_freq',\n",
    " 'internet_social_media_post_freq',\n",
    " 'internet_shopping_freq',\n",
    " 'internet_banking_freq',\n",
    " 'internet_gaming_freq',\n",
    " 'internet_video_streaming_freq',\n",
    " 'internet_music_streaming_freq',\n",
    " 'is_smoker',\n",
    " 'financial_situation_current',\n",
    " 'financial_situation_future',\n",
    " 'ghq_binary',\n",
    " 'UCLA_loneliness_score',\n",
    " 'general_health_rating',\n",
    " 'income_group']\n",
    "\n",
    "\n",
    "#### categorical variables  #####\n",
    "categorical = [\n",
    " 'dem_sex',\n",
    " 'dem_ethnicity',\n",
    " 'dem_urban_rural',\n",
    " 'dem_education_level',\n",
    " 'dem_emp_status',\n",
    " 'dem_marital_status',\n",
    " 'household_size',\n",
    " 'responsible_for_child',\n",
    " 'provides_care',\n",
    " 'social_has_friends',\n",
    " 'social_has_family',\n",
    " 'social_general_trust',\n",
    " 'has_longterm_illness',\n",
    " 'health_limits_moderate_activity',\n",
    " 'health_limits_stairs',\n",
    " 'health_limits_daily_activities_amount',\n",
    " 'health_limits_work_type',\n",
    " 'health_pain_interferse_activity_type',\n",
    " 'internet_browse_freq',\n",
    " 'internet_email_freq',\n",
    " 'internet_social_media_view_freq',\n",
    " 'internet_social_media_post_freq',\n",
    " 'internet_shopping_freq',\n",
    " 'internet_banking_freq',\n",
    " 'internet_gaming_freq',\n",
    " 'internet_video_streaming_freq',\n",
    " 'internet_music_streaming_freq',\n",
    " 'is_smoker',\n",
    " 'financial_situation_current',\n",
    " 'financial_situation_future',\n",
    " 'ghq_binary',\n",
    " 'general_health_rating',\n",
    " 'income_group'\n",
    "]"
   ]
  },
  {
   "cell_type": "code",
   "execution_count": 81,
   "id": "fe941462-cc57-454c-96a6-ec65f4793fcf",
   "metadata": {},
   "outputs": [],
   "source": [
    "groupby = 'ghq_binary'\n",
    "\n",
    "table1 = TableOne(data=df_clean, \n",
    "                  columns=columns, \n",
    "                  categorical=categorical,\n",
    "                  groupby=groupby,\n",
    "                  nonnormal=[\n",
    "                      'dem_age',\n",
    "                      'UCLA_loneliness_score', \n",
    "                      'social_general_trust'],  # Mann-Whitney test \n",
    "                  pval=True)"
   ]
  },
  {
   "cell_type": "code",
   "execution_count": 82,
   "id": "e1658cf7-f3cd-4a48-b14c-e30b47bd4a5b",
   "metadata": {
    "scrolled": true
   },
   "outputs": [
    {
     "data": {
      "text/html": [
       "<div>\n",
       "<style scoped>\n",
       "    .dataframe tbody tr th:only-of-type {\n",
       "        vertical-align: middle;\n",
       "    }\n",
       "\n",
       "    .dataframe tbody tr th {\n",
       "        vertical-align: top;\n",
       "    }\n",
       "\n",
       "    .dataframe thead tr th {\n",
       "        text-align: left;\n",
       "    }\n",
       "</style>\n",
       "<table border=\"1\" class=\"dataframe\">\n",
       "  <thead>\n",
       "    <tr>\n",
       "      <th></th>\n",
       "      <th></th>\n",
       "      <th colspan=\"5\" halign=\"left\">Grouped by ghq_binary</th>\n",
       "    </tr>\n",
       "    <tr>\n",
       "      <th></th>\n",
       "      <th></th>\n",
       "      <th>Missing</th>\n",
       "      <th>Overall</th>\n",
       "      <th>0</th>\n",
       "      <th>1</th>\n",
       "      <th>P-Value</th>\n",
       "    </tr>\n",
       "  </thead>\n",
       "  <tbody>\n",
       "    <tr>\n",
       "      <th>n</th>\n",
       "      <th></th>\n",
       "      <td></td>\n",
       "      <td>25512</td>\n",
       "      <td>20257</td>\n",
       "      <td>5255</td>\n",
       "      <td></td>\n",
       "    </tr>\n",
       "    <tr>\n",
       "      <th>dem_age, median [Q1,Q3]</th>\n",
       "      <th></th>\n",
       "      <td>0</td>\n",
       "      <td>50.0 [34.0,63.0]</td>\n",
       "      <td>51.0 [36.0,64.0]</td>\n",
       "      <td>45.0 [31.0,58.0]</td>\n",
       "      <td>&lt;0.001</td>\n",
       "    </tr>\n",
       "    <tr>\n",
       "      <th rowspan=\"2\" valign=\"top\">dem_sex, n (%)</th>\n",
       "      <th>Female</th>\n",
       "      <td></td>\n",
       "      <td>14055 (55.1)</td>\n",
       "      <td>10656 (52.6)</td>\n",
       "      <td>3399 (64.7)</td>\n",
       "      <td>&lt;0.001</td>\n",
       "    </tr>\n",
       "    <tr>\n",
       "      <th>Male</th>\n",
       "      <td></td>\n",
       "      <td>11457 (44.9)</td>\n",
       "      <td>9601 (47.4)</td>\n",
       "      <td>1856 (35.3)</td>\n",
       "      <td></td>\n",
       "    </tr>\n",
       "    <tr>\n",
       "      <th>dem_ethnicity, n (%)</th>\n",
       "      <th>Asian</th>\n",
       "      <td></td>\n",
       "      <td>2342 (9.2)</td>\n",
       "      <td>1866 (9.2)</td>\n",
       "      <td>476 (9.1)</td>\n",
       "      <td>0.016</td>\n",
       "    </tr>\n",
       "    <tr>\n",
       "      <th>...</th>\n",
       "      <th>...</th>\n",
       "      <td>...</td>\n",
       "      <td>...</td>\n",
       "      <td>...</td>\n",
       "      <td>...</td>\n",
       "      <td>...</td>\n",
       "    </tr>\n",
       "    <tr>\n",
       "      <th>general_health_rating, n (%)</th>\n",
       "      <th>Poor</th>\n",
       "      <td></td>\n",
       "      <td>1315 (5.2)</td>\n",
       "      <td>469 (2.3)</td>\n",
       "      <td>846 (16.1)</td>\n",
       "      <td></td>\n",
       "    </tr>\n",
       "    <tr>\n",
       "      <th rowspan=\"4\" valign=\"top\">income_group, n (%)</th>\n",
       "      <th>High</th>\n",
       "      <td></td>\n",
       "      <td>3 (0.0)</td>\n",
       "      <td>3 (0.0)</td>\n",
       "      <td>0 (0.0)</td>\n",
       "      <td>0.835</td>\n",
       "    </tr>\n",
       "    <tr>\n",
       "      <th>Low</th>\n",
       "      <td></td>\n",
       "      <td>25482 (99.9)</td>\n",
       "      <td>20232 (99.9)</td>\n",
       "      <td>5250 (99.9)</td>\n",
       "      <td></td>\n",
       "    </tr>\n",
       "    <tr>\n",
       "      <th>Lower-Middle</th>\n",
       "      <td></td>\n",
       "      <td>22 (0.1)</td>\n",
       "      <td>18 (0.1)</td>\n",
       "      <td>4 (0.1)</td>\n",
       "      <td></td>\n",
       "    </tr>\n",
       "    <tr>\n",
       "      <th>Middle</th>\n",
       "      <td></td>\n",
       "      <td>5 (0.0)</td>\n",
       "      <td>4 (0.0)</td>\n",
       "      <td>1 (0.0)</td>\n",
       "      <td></td>\n",
       "    </tr>\n",
       "  </tbody>\n",
       "</table>\n",
       "<p>139 rows × 5 columns</p>\n",
       "</div>"
      ],
      "text/plain": [
       "                                          Grouped by ghq_binary  \\\n",
       "                                                        Missing   \n",
       "n                                                                 \n",
       "dem_age, median [Q1,Q3]                                       0   \n",
       "dem_sex, n (%)               Female                               \n",
       "                             Male                                 \n",
       "dem_ethnicity, n (%)         Asian                                \n",
       "...                                                         ...   \n",
       "general_health_rating, n (%) Poor                                 \n",
       "income_group, n (%)          High                                 \n",
       "                             Low                                  \n",
       "                             Lower-Middle                         \n",
       "                             Middle                               \n",
       "\n",
       "                                                                               \\\n",
       "                                                    Overall                 0   \n",
       "n                                                     25512             20257   \n",
       "dem_age, median [Q1,Q3]                    50.0 [34.0,63.0]  51.0 [36.0,64.0]   \n",
       "dem_sex, n (%)               Female            14055 (55.1)      10656 (52.6)   \n",
       "                             Male              11457 (44.9)       9601 (47.4)   \n",
       "dem_ethnicity, n (%)         Asian               2342 (9.2)        1866 (9.2)   \n",
       "...                                                     ...               ...   \n",
       "general_health_rating, n (%) Poor                1315 (5.2)         469 (2.3)   \n",
       "income_group, n (%)          High                   3 (0.0)           3 (0.0)   \n",
       "                             Low               25482 (99.9)      20232 (99.9)   \n",
       "                             Lower-Middle          22 (0.1)          18 (0.1)   \n",
       "                             Middle                 5 (0.0)           4 (0.0)   \n",
       "\n",
       "                                                                     \n",
       "                                                          1 P-Value  \n",
       "n                                                      5255          \n",
       "dem_age, median [Q1,Q3]                    45.0 [31.0,58.0]  <0.001  \n",
       "dem_sex, n (%)               Female             3399 (64.7)  <0.001  \n",
       "                             Male               1856 (35.3)          \n",
       "dem_ethnicity, n (%)         Asian                476 (9.1)   0.016  \n",
       "...                                                     ...     ...  \n",
       "general_health_rating, n (%) Poor                846 (16.1)          \n",
       "income_group, n (%)          High                   0 (0.0)   0.835  \n",
       "                             Low                5250 (99.9)          \n",
       "                             Lower-Middle           4 (0.1)          \n",
       "                             Middle                 1 (0.0)          \n",
       "\n",
       "[139 rows x 5 columns]"
      ]
     },
     "metadata": {},
     "output_type": "display_data"
    }
   ],
   "source": [
    "# Display in nice format i Jupyter # \n",
    "table1_df = table1.tableone\n",
    "display(table1_df)\n",
    "table1_df.to_csv(r\"C:\\Users\\aleks\\OneDrive - Coventry University\\Desktop\\Project_Data\\table1_ghq_binary.csv\")"
   ]
  },
  {
   "cell_type": "code",
   "execution_count": 83,
   "id": "9bbeeb9f-6221-477e-91db-2be2032e2ecc",
   "metadata": {},
   "outputs": [
    {
     "data": {
      "text/plain": [
       "(25512, 35)"
      ]
     },
     "execution_count": 83,
     "metadata": {},
     "output_type": "execute_result"
    }
   ],
   "source": [
    "df_clean.shape"
   ]
  },
  {
   "cell_type": "code",
   "execution_count": 84,
   "id": "7adb14c4-7154-46e2-98a6-61aefd5f0433",
   "metadata": {
    "scrolled": true
   },
   "outputs": [
    {
     "data": {
      "text/html": [
       "<div>\n",
       "<style scoped>\n",
       "    .dataframe tbody tr th:only-of-type {\n",
       "        vertical-align: middle;\n",
       "    }\n",
       "\n",
       "    .dataframe tbody tr th {\n",
       "        vertical-align: top;\n",
       "    }\n",
       "\n",
       "    .dataframe thead th {\n",
       "        text-align: right;\n",
       "    }\n",
       "</style>\n",
       "<table border=\"1\" class=\"dataframe\">\n",
       "  <thead>\n",
       "    <tr style=\"text-align: right;\">\n",
       "      <th></th>\n",
       "      <th>dem_age</th>\n",
       "      <th>dem_sex</th>\n",
       "      <th>dem_ethnicity</th>\n",
       "      <th>dem_urban_rural</th>\n",
       "      <th>dem_education_level</th>\n",
       "      <th>dem_emp_status</th>\n",
       "      <th>dem_marital_status</th>\n",
       "      <th>household_size</th>\n",
       "      <th>responsible_for_child</th>\n",
       "      <th>provides_care</th>\n",
       "      <th>...</th>\n",
       "      <th>internet_banking_freq</th>\n",
       "      <th>internet_gaming_freq</th>\n",
       "      <th>internet_video_streaming_freq</th>\n",
       "      <th>internet_music_streaming_freq</th>\n",
       "      <th>is_smoker</th>\n",
       "      <th>financial_situation_current</th>\n",
       "      <th>financial_situation_future</th>\n",
       "      <th>ghq_binary</th>\n",
       "      <th>UCLA_loneliness_score</th>\n",
       "      <th>income_group</th>\n",
       "    </tr>\n",
       "  </thead>\n",
       "  <tbody>\n",
       "    <tr>\n",
       "      <th>0</th>\n",
       "      <td>37.0</td>\n",
       "      <td>Female</td>\n",
       "      <td>White</td>\n",
       "      <td>Urban area</td>\n",
       "      <td>Higher education</td>\n",
       "      <td>Employed</td>\n",
       "      <td>In relationship</td>\n",
       "      <td>3-4 people</td>\n",
       "      <td>Yes</td>\n",
       "      <td>No</td>\n",
       "      <td>...</td>\n",
       "      <td>Every day</td>\n",
       "      <td>Several times a week</td>\n",
       "      <td>Several times a month</td>\n",
       "      <td>Several times a week</td>\n",
       "      <td>No</td>\n",
       "      <td>Doing alright</td>\n",
       "      <td>About the same</td>\n",
       "      <td>1</td>\n",
       "      <td>7.0</td>\n",
       "      <td>Low</td>\n",
       "    </tr>\n",
       "    <tr>\n",
       "      <th>1</th>\n",
       "      <td>45.0</td>\n",
       "      <td>Female</td>\n",
       "      <td>White</td>\n",
       "      <td>Urban area</td>\n",
       "      <td>Higher education</td>\n",
       "      <td>Employed</td>\n",
       "      <td>Not in relationship</td>\n",
       "      <td>3-4 people</td>\n",
       "      <td>Yes</td>\n",
       "      <td>No</td>\n",
       "      <td>...</td>\n",
       "      <td>Several times a week</td>\n",
       "      <td>Never</td>\n",
       "      <td>Several times a week</td>\n",
       "      <td>Several times a month</td>\n",
       "      <td>No</td>\n",
       "      <td>Finding it very difficult</td>\n",
       "      <td>About the same</td>\n",
       "      <td>1</td>\n",
       "      <td>6.0</td>\n",
       "      <td>Low</td>\n",
       "    </tr>\n",
       "    <tr>\n",
       "      <th>2</th>\n",
       "      <td>39.0</td>\n",
       "      <td>Female</td>\n",
       "      <td>White</td>\n",
       "      <td>Urban area</td>\n",
       "      <td>Secondary/Other</td>\n",
       "      <td>Employed</td>\n",
       "      <td>In relationship</td>\n",
       "      <td>3-4 people</td>\n",
       "      <td>Yes</td>\n",
       "      <td>No</td>\n",
       "      <td>...</td>\n",
       "      <td>Several times a week</td>\n",
       "      <td>Less than once a month</td>\n",
       "      <td>Never</td>\n",
       "      <td>Several times a week</td>\n",
       "      <td>No</td>\n",
       "      <td>Just about getting by</td>\n",
       "      <td>Better off</td>\n",
       "      <td>0</td>\n",
       "      <td>3.0</td>\n",
       "      <td>Low</td>\n",
       "    </tr>\n",
       "    <tr>\n",
       "      <th>3</th>\n",
       "      <td>43.0</td>\n",
       "      <td>Female</td>\n",
       "      <td>White</td>\n",
       "      <td>Rural area</td>\n",
       "      <td>Secondary/Other</td>\n",
       "      <td>Unemployed/Retired/Other</td>\n",
       "      <td>In relationship</td>\n",
       "      <td>3-4 people</td>\n",
       "      <td>Yes</td>\n",
       "      <td>No</td>\n",
       "      <td>...</td>\n",
       "      <td>Several times a week</td>\n",
       "      <td>Several times a month</td>\n",
       "      <td>Never</td>\n",
       "      <td>Several times a week</td>\n",
       "      <td>No</td>\n",
       "      <td>Just about getting by</td>\n",
       "      <td>About the same</td>\n",
       "      <td>1</td>\n",
       "      <td>5.0</td>\n",
       "      <td>Low</td>\n",
       "    </tr>\n",
       "    <tr>\n",
       "      <th>4</th>\n",
       "      <td>32.0</td>\n",
       "      <td>Female</td>\n",
       "      <td>White</td>\n",
       "      <td>Urban area</td>\n",
       "      <td>Secondary/Other</td>\n",
       "      <td>Employed</td>\n",
       "      <td>Not in relationship</td>\n",
       "      <td>3-4 people</td>\n",
       "      <td>Yes</td>\n",
       "      <td>No</td>\n",
       "      <td>...</td>\n",
       "      <td>Several times a week</td>\n",
       "      <td>Every day</td>\n",
       "      <td>Several times a week</td>\n",
       "      <td>Several times a week</td>\n",
       "      <td>No</td>\n",
       "      <td>Doing alright</td>\n",
       "      <td>About the same</td>\n",
       "      <td>1</td>\n",
       "      <td>4.0</td>\n",
       "      <td>Low</td>\n",
       "    </tr>\n",
       "    <tr>\n",
       "      <th>5</th>\n",
       "      <td>35.0</td>\n",
       "      <td>Female</td>\n",
       "      <td>White</td>\n",
       "      <td>Urban area</td>\n",
       "      <td>Higher education</td>\n",
       "      <td>Employed</td>\n",
       "      <td>In relationship</td>\n",
       "      <td>3-4 people</td>\n",
       "      <td>Yes</td>\n",
       "      <td>No</td>\n",
       "      <td>...</td>\n",
       "      <td>Every day</td>\n",
       "      <td>Several times a month</td>\n",
       "      <td>Every day</td>\n",
       "      <td>Several times a month</td>\n",
       "      <td>No</td>\n",
       "      <td>Living comfortably</td>\n",
       "      <td>About the same</td>\n",
       "      <td>0</td>\n",
       "      <td>3.0</td>\n",
       "      <td>Low</td>\n",
       "    </tr>\n",
       "    <tr>\n",
       "      <th>6</th>\n",
       "      <td>37.0</td>\n",
       "      <td>Male</td>\n",
       "      <td>White</td>\n",
       "      <td>Urban area</td>\n",
       "      <td>No formal education</td>\n",
       "      <td>Unemployed/Retired/Other</td>\n",
       "      <td>Not in relationship</td>\n",
       "      <td>3-4 people</td>\n",
       "      <td>No</td>\n",
       "      <td>Yes</td>\n",
       "      <td>...</td>\n",
       "      <td>Several times a month</td>\n",
       "      <td>Several times a week</td>\n",
       "      <td>Every day</td>\n",
       "      <td>Several times a month</td>\n",
       "      <td>Yes</td>\n",
       "      <td>Finding it quite difficult</td>\n",
       "      <td>Worse off than now</td>\n",
       "      <td>1</td>\n",
       "      <td>8.0</td>\n",
       "      <td>Low</td>\n",
       "    </tr>\n",
       "    <tr>\n",
       "      <th>10</th>\n",
       "      <td>38.0</td>\n",
       "      <td>Male</td>\n",
       "      <td>White</td>\n",
       "      <td>Rural area</td>\n",
       "      <td>Secondary/Other</td>\n",
       "      <td>Employed</td>\n",
       "      <td>Not in relationship</td>\n",
       "      <td>1-2 people</td>\n",
       "      <td>No</td>\n",
       "      <td>No</td>\n",
       "      <td>...</td>\n",
       "      <td>Several times a week</td>\n",
       "      <td>Less than once a month</td>\n",
       "      <td>Several times a week</td>\n",
       "      <td>Several times a month</td>\n",
       "      <td>Yes</td>\n",
       "      <td>Doing alright</td>\n",
       "      <td>About the same</td>\n",
       "      <td>0</td>\n",
       "      <td>3.0</td>\n",
       "      <td>Low</td>\n",
       "    </tr>\n",
       "    <tr>\n",
       "      <th>11</th>\n",
       "      <td>68.0</td>\n",
       "      <td>Female</td>\n",
       "      <td>White</td>\n",
       "      <td>Urban area</td>\n",
       "      <td>Higher education</td>\n",
       "      <td>Unemployed/Retired/Other</td>\n",
       "      <td>Not in relationship</td>\n",
       "      <td>1-2 people</td>\n",
       "      <td>No</td>\n",
       "      <td>No</td>\n",
       "      <td>...</td>\n",
       "      <td>Never</td>\n",
       "      <td>Less than once a month</td>\n",
       "      <td>Never</td>\n",
       "      <td>Never</td>\n",
       "      <td>No</td>\n",
       "      <td>Doing alright</td>\n",
       "      <td>About the same</td>\n",
       "      <td>0</td>\n",
       "      <td>5.0</td>\n",
       "      <td>Low</td>\n",
       "    </tr>\n",
       "    <tr>\n",
       "      <th>12</th>\n",
       "      <td>77.0</td>\n",
       "      <td>Male</td>\n",
       "      <td>White</td>\n",
       "      <td>Urban area</td>\n",
       "      <td>Higher education</td>\n",
       "      <td>Unemployed/Retired/Other</td>\n",
       "      <td>Not in relationship</td>\n",
       "      <td>1-2 people</td>\n",
       "      <td>No</td>\n",
       "      <td>No</td>\n",
       "      <td>...</td>\n",
       "      <td>Less than once a month</td>\n",
       "      <td>Never</td>\n",
       "      <td>Never</td>\n",
       "      <td>Never</td>\n",
       "      <td>No</td>\n",
       "      <td>Finding it quite difficult</td>\n",
       "      <td>Worse off than now</td>\n",
       "      <td>1</td>\n",
       "      <td>7.0</td>\n",
       "      <td>Low</td>\n",
       "    </tr>\n",
       "  </tbody>\n",
       "</table>\n",
       "<p>10 rows × 35 columns</p>\n",
       "</div>"
      ],
      "text/plain": [
       "    dem_age dem_sex dem_ethnicity dem_urban_rural  dem_education_level  \\\n",
       "0      37.0  Female         White      Urban area     Higher education   \n",
       "1      45.0  Female         White      Urban area     Higher education   \n",
       "2      39.0  Female         White      Urban area      Secondary/Other   \n",
       "3      43.0  Female         White      Rural area      Secondary/Other   \n",
       "4      32.0  Female         White      Urban area      Secondary/Other   \n",
       "5      35.0  Female         White      Urban area     Higher education   \n",
       "6      37.0    Male         White      Urban area  No formal education   \n",
       "10     38.0    Male         White      Rural area      Secondary/Other   \n",
       "11     68.0  Female         White      Urban area     Higher education   \n",
       "12     77.0    Male         White      Urban area     Higher education   \n",
       "\n",
       "              dem_emp_status   dem_marital_status household_size  \\\n",
       "0                   Employed      In relationship     3-4 people   \n",
       "1                   Employed  Not in relationship     3-4 people   \n",
       "2                   Employed      In relationship     3-4 people   \n",
       "3   Unemployed/Retired/Other      In relationship     3-4 people   \n",
       "4                   Employed  Not in relationship     3-4 people   \n",
       "5                   Employed      In relationship     3-4 people   \n",
       "6   Unemployed/Retired/Other  Not in relationship     3-4 people   \n",
       "10                  Employed  Not in relationship     1-2 people   \n",
       "11  Unemployed/Retired/Other  Not in relationship     1-2 people   \n",
       "12  Unemployed/Retired/Other  Not in relationship     1-2 people   \n",
       "\n",
       "   responsible_for_child provides_care  ...   internet_banking_freq  \\\n",
       "0                    Yes            No  ...               Every day   \n",
       "1                    Yes            No  ...    Several times a week   \n",
       "2                    Yes            No  ...    Several times a week   \n",
       "3                    Yes            No  ...    Several times a week   \n",
       "4                    Yes            No  ...    Several times a week   \n",
       "5                    Yes            No  ...               Every day   \n",
       "6                     No           Yes  ...   Several times a month   \n",
       "10                    No            No  ...    Several times a week   \n",
       "11                    No            No  ...                   Never   \n",
       "12                    No            No  ...  Less than once a month   \n",
       "\n",
       "      internet_gaming_freq internet_video_streaming_freq  \\\n",
       "0     Several times a week         Several times a month   \n",
       "1                    Never          Several times a week   \n",
       "2   Less than once a month                         Never   \n",
       "3    Several times a month                         Never   \n",
       "4                Every day          Several times a week   \n",
       "5    Several times a month                     Every day   \n",
       "6     Several times a week                     Every day   \n",
       "10  Less than once a month          Several times a week   \n",
       "11  Less than once a month                         Never   \n",
       "12                   Never                         Never   \n",
       "\n",
       "   internet_music_streaming_freq  is_smoker  financial_situation_current  \\\n",
       "0           Several times a week         No                Doing alright   \n",
       "1          Several times a month         No    Finding it very difficult   \n",
       "2           Several times a week         No        Just about getting by   \n",
       "3           Several times a week         No        Just about getting by   \n",
       "4           Several times a week         No                Doing alright   \n",
       "5          Several times a month         No           Living comfortably   \n",
       "6          Several times a month        Yes   Finding it quite difficult   \n",
       "10         Several times a month        Yes                Doing alright   \n",
       "11                         Never         No                Doing alright   \n",
       "12                         Never         No   Finding it quite difficult   \n",
       "\n",
       "   financial_situation_future ghq_binary UCLA_loneliness_score income_group  \n",
       "0              About the same          1                   7.0          Low  \n",
       "1              About the same          1                   6.0          Low  \n",
       "2                  Better off          0                   3.0          Low  \n",
       "3              About the same          1                   5.0          Low  \n",
       "4              About the same          1                   4.0          Low  \n",
       "5              About the same          0                   3.0          Low  \n",
       "6          Worse off than now          1                   8.0          Low  \n",
       "10             About the same          0                   3.0          Low  \n",
       "11             About the same          0                   5.0          Low  \n",
       "12         Worse off than now          1                   7.0          Low  \n",
       "\n",
       "[10 rows x 35 columns]"
      ]
     },
     "execution_count": 84,
     "metadata": {},
     "output_type": "execute_result"
    }
   ],
   "source": [
    "df_clean.head(10)"
   ]
  },
  {
   "cell_type": "code",
   "execution_count": 85,
   "id": "d3ef243b-b2a3-4f95-a7ed-51e9335ef1ea",
   "metadata": {},
   "outputs": [],
   "source": [
    "X = df_clean.drop('ghq_binary', axis=1)\n",
    "y = df_clean['ghq_binary']"
   ]
  },
  {
   "cell_type": "code",
   "execution_count": 86,
   "id": "88b0d940-bd06-4dcf-9780-b8ba0933b35e",
   "metadata": {},
   "outputs": [],
   "source": [
    "\n",
    "# ========= 1) ORDINAL =========\n",
    "internet_order = [\n",
    "    \"Every day\",\n",
    "    \"Several times a week\",\n",
    "    \"Several times a month\",\n",
    "    \"Once a month\",\n",
    "    \"Less than once a month\",\n",
    "    \"Never\",\n",
    "]\n",
    "fin_now_order = [\n",
    "    \"Living comfortably\",\n",
    "    \"Doing alright\",\n",
    "    \"Just about getting by\",\n",
    "    \"Finding it quite difficult\",\n",
    "    \"Finding it very difficult\",\n",
    "]\n",
    "fin_fut_order = [\n",
    "    \"Better off\",\n",
    "    \"About the same\",\n",
    "    \"Worse off than now\",\n",
    "]\n",
    "role_phys_order = [  # n_scsf3a / n_scsf3b\n",
    "    \"None of the time\",\n",
    "    \"A little of the time\",\n",
    "    \"Some of the time\",\n",
    "    \"Most of the time\",\n",
    "    \"All of the time\",\n",
    "]\n",
    "limit_order = [  # n_scsf2a / n_scsf2b\n",
    "    \"No, not limited at all\",\n",
    "    \"Yes, limited a little\",\n",
    "    \"Yes, limited a lot\",\n",
    "]\n",
    "pain_order = [  # n_scsf5\n",
    "    \"None of the time\",\n",
    "    \"A little of the time\",\n",
    "    \"Some of the time\",\n",
    "    \"Most of the time\",\n",
    "    \"All of the time\",\n",
    "]\n",
    "\n",
    "general_health_order = [\n",
    "        \"Excellent\",\n",
    "        \"Very Good\",\n",
    "        \"Good\",\n",
    "        \"Fair\",\n",
    "        \"Poor\"\n",
    "    ]\n",
    "\n",
    "\n",
    "# Ordinal columns \n",
    "ordinal_plan = {\n",
    "    \"financial_situation_current\": fin_now_order,\n",
    "    \"financial_situation_future\": fin_fut_order,\n",
    "    \"health_limits_daily_activities_amount\": role_phys_order,\n",
    "    \"health_limits_work_type\": role_phys_order,\n",
    "    \"health_limits_moderate_activity\": limit_order,\n",
    "    \"health_limits_stairs\": limit_order,\n",
    "    \"health_pain_interferse_activity_type\": pain_order,\n",
    "    \"general_health_rating\": general_health_order,\n",
    "\n",
    "    \"internet_browse_freq\": internet_order,\n",
    "    \"internet_email_freq\": internet_order,\n",
    "    \"internet_social_media_view_freq\": internet_order,\n",
    "    \"internet_social_media_post_freq\": internet_order,\n",
    "    \"internet_shopping_freq\": internet_order,\n",
    "    \"internet_banking_freq\": internet_order,\n",
    "    \"internet_gaming_freq\": internet_order,\n",
    "    \"internet_video_streaming_freq\": internet_order,\n",
    "    \"internet_music_streaming_freq\": internet_order,\n",
    "}"
   ]
  },
  {
   "cell_type": "code",
   "execution_count": 87,
   "id": "ae6ad70e-9743-4d37-9faf-dd0a6f729164",
   "metadata": {},
   "outputs": [
    {
     "name": "stdout",
     "output_type": "stream",
     "text": [
      "Ordinal variables: ['financial_situation_current', 'financial_situation_future', 'health_limits_daily_activities_amount', 'health_limits_work_type', 'health_limits_moderate_activity', 'health_limits_stairs', 'health_pain_interferse_activity_type', 'general_health_rating', 'internet_browse_freq', 'internet_email_freq', 'internet_social_media_view_freq', 'internet_social_media_post_freq', 'internet_shopping_freq', 'internet_banking_freq', 'internet_gaming_freq', 'internet_video_streaming_freq', 'internet_music_streaming_freq']\n"
     ]
    }
   ],
   "source": [
    "# Function: set as oredered categorical\n",
    "def encode_ordered_to_codes(df, col, ordered_levels):\n",
    "    if col not in df.columns:\n",
    "        return\n",
    "    s = df[col]\n",
    "    \n",
    "    sn = pd.to_numeric(s, errors=\"coerce\")\n",
    "    if sn.notna().any() and s.dropna().dtype != \"category\":\n",
    "        \n",
    "        mapping = {i+1: lvl for i, lvl in enumerate(ordered_levels)}\n",
    "        s = sn.map(mapping)\n",
    "    \n",
    "    s_cat = pd.Categorical(s, categories=ordered_levels, ordered=True)\n",
    "    \n",
    "    df[col] = pd.Series(s_cat.codes, index=df.index).replace(-1, np.nan).astype(\"float32\")\n",
    "\n",
    "# Encode all ordinal variables \n",
    "ordinal_variables = []\n",
    "for col, order_ in ordinal_plan.items():\n",
    "    if col in X.columns:\n",
    "        encode_ordered_to_codes(X, col, order_)\n",
    "        ordinal_variables.append(col)\n",
    "\n",
    "print(f\"Ordinal variables: {ordinal_variables}\")"
   ]
  },
  {
   "cell_type": "code",
   "execution_count": 88,
   "id": "2b84b2ee-87d0-4267-9767-082c9c214218",
   "metadata": {},
   "outputs": [
    {
     "name": "stdout",
     "output_type": "stream",
     "text": [
      "Binary variables (0/1): ['dem_sex', 'dem_urban_rural', 'dem_emp_status', 'dem_marital_status', 'responsible_for_child', 'provides_care', 'has_longterm_illness', 'is_smoker', 'social_has_friends', 'social_has_family']\n"
     ]
    }
   ],
   "source": [
    "# ========= 2) BINARNE =========\n",
    "# Binary variables \n",
    "binary_variables = []\n",
    "def add_bin(name):\n",
    "    if name in X.columns and name not in ordinal_variables:\n",
    "        binary_variables.append(name)\n",
    "\n",
    "add_bin('dem_sex')               # 1=female, 0=male \n",
    "add_bin('dem_urban_rural')       # 1=urban, 0=rural\n",
    "add_bin('dem_emp_status')        \n",
    "add_bin('dem_marital_status')    \n",
    "add_bin('responsible_for_child')\n",
    "add_bin('provides_care')\n",
    "add_bin('has_longterm_illness')\n",
    "add_bin('is_smoker')\n",
    "add_bin('social_has_friends')\n",
    "add_bin('social_has_family')\n",
    "# NIC z *_binary tu nie dodajemy\n",
    "\n",
    "print(f\"Binary variables (0/1): {binary_variables}\")\n",
    "\n",
    "# Maps binary \n",
    "for col in binary_variables:\n",
    "\n",
    "    vals = X[col].astype(str)\n",
    "    if col == 'dem_sex':\n",
    "        # oryg. UKHLS Male=1, Female=2 -> in this project Female=1, Male=0\n",
    "        X[col] = vals.map({'2': 1, '1': 0, 'female': 1, 'male': 0}).astype('Int64').fillna(0).astype(int)\n",
    "    elif col in ['dem_urban_rural','dem_emp_status','dem_marital_status',\n",
    "                 'responsible_for_child','provides_care','has_longterm_illness',\n",
    "                 'social_has_friends','social_has_family','is_smoker']:\n",
    "        # standard: Yes=1, No=2 -> 1;2 -> 1;0\n",
    "        X[col] = vals.map({'1': 1, '2': 0, 'Yes': 1, 'No': 0}).astype('Int64').fillna(0).astype(int)"
   ]
  },
  {
   "cell_type": "code",
   "execution_count": 89,
   "id": "fead9282-e260-4474-ac12-a988f1be9435",
   "metadata": {},
   "outputs": [
    {
     "name": "stdout",
     "output_type": "stream",
     "text": [
      "Nominal variables (one-hot): ['dem_ethnicity', 'dem_education_level', 'household_size', 'income_group']\n"
     ]
    }
   ],
   "source": [
    "\n",
    "# ========= 3) NOMINAL =========\n",
    "nominal_variables = []\n",
    "def add_nom(name):\n",
    "    # add variable to nominal list \n",
    "    if name in X.columns and name not in ordinal_variables and name not in binary_variables:\n",
    "        nominal_variables.append(name)\n",
    "\n",
    "add_nom('dem_ethnicity')\n",
    "add_nom('dem_education_level')\n",
    "add_nom('household_size')   \n",
    "add_nom('income_group')     \n",
    "\n",
    "print(f\"Nominal variables (one-hot): {nominal_variables}\")\n",
    "\n",
    "# One hot for nominla variables \n",
    "for col in nominal_variables:\n",
    "    X[col] = X[col].astype('category')\n",
    "\n",
    "if nominal_variables:\n",
    "    X = pd.get_dummies(\n",
    "        X,\n",
    "        columns=nominal_variables,\n",
    "        prefix=nominal_variables,\n",
    "        drop_first=True,\n",
    "        dtype=int\n",
    "    )"
   ]
  },
  {
   "cell_type": "code",
   "execution_count": 90,
   "id": "15420f23-4b0d-4779-a988-9bab56b9f8df",
   "metadata": {},
   "outputs": [
    {
     "name": "stdout",
     "output_type": "stream",
     "text": [
      "\n",
      "Preprocessing complete. Shape: (25512, 41)\n"
     ]
    }
   ],
   "source": [
    "# continious \n",
    "continuous_cols = [\n",
    "    'dem_age',\n",
    "    'UCLA_loneliness_score',\n",
    "    'social_general_trust',\n",
    "]\n",
    "for col in continuous_cols:\n",
    "    if col in X.columns and not pd.api.types.is_numeric_dtype(X[col]):\n",
    "        X[col] = pd.to_numeric(X[col], errors='coerce')\n",
    "\n",
    "print(f\"\\nPreprocessing complete. Shape: {X.shape}\")"
   ]
  },
  {
   "cell_type": "code",
   "execution_count": 91,
   "id": "8d48a2ff-e126-4269-b986-7965ebf54771",
   "metadata": {
    "scrolled": true
   },
   "outputs": [
    {
     "name": "stdout",
     "output_type": "stream",
     "text": [
      "<class 'pandas.core.frame.DataFrame'>\n",
      "Index: 25512 entries, 0 to 35470\n",
      "Data columns (total 41 columns):\n",
      " #   Column                                 Non-Null Count  Dtype  \n",
      "---  ------                                 --------------  -----  \n",
      " 0   dem_age                                25512 non-null  float64\n",
      " 1   dem_sex                                25512 non-null  int64  \n",
      " 2   dem_urban_rural                        25512 non-null  int64  \n",
      " 3   dem_emp_status                         25512 non-null  int64  \n",
      " 4   dem_marital_status                     25512 non-null  int64  \n",
      " 5   responsible_for_child                  25512 non-null  int64  \n",
      " 6   provides_care                          25512 non-null  int64  \n",
      " 7   social_has_friends                     25512 non-null  int64  \n",
      " 8   social_has_family                      25512 non-null  int64  \n",
      " 9   has_longterm_illness                   25512 non-null  int64  \n",
      " 10  general_health_rating                  25512 non-null  float32\n",
      " 11  health_limits_moderate_activity        25512 non-null  float32\n",
      " 12  health_limits_stairs                   25512 non-null  float32\n",
      " 13  health_limits_daily_activities_amount  25512 non-null  float32\n",
      " 14  health_limits_work_type                25512 non-null  float32\n",
      " 15  health_pain_interferse_activity_type   25512 non-null  float32\n",
      " 16  internet_browse_freq                   25512 non-null  float32\n",
      " 17  internet_email_freq                    25512 non-null  float32\n",
      " 18  internet_social_media_view_freq        25512 non-null  float32\n",
      " 19  social_general_trust                   25512 non-null  float64\n",
      " 20  internet_social_media_post_freq        25512 non-null  float32\n",
      " 21  internet_shopping_freq                 25512 non-null  float32\n",
      " 22  internet_banking_freq                  25512 non-null  float32\n",
      " 23  internet_gaming_freq                   25512 non-null  float32\n",
      " 24  internet_video_streaming_freq          25512 non-null  float32\n",
      " 25  internet_music_streaming_freq          25512 non-null  float32\n",
      " 26  is_smoker                              25512 non-null  int64  \n",
      " 27  financial_situation_current            25512 non-null  float32\n",
      " 28  financial_situation_future             25512 non-null  float32\n",
      " 29  UCLA_loneliness_score                  25512 non-null  float64\n",
      " 30  dem_ethnicity_Black                    25512 non-null  int64  \n",
      " 31  dem_ethnicity_Mixed                    25512 non-null  int64  \n",
      " 32  dem_ethnicity_Other                    25512 non-null  int64  \n",
      " 33  dem_ethnicity_White                    25512 non-null  int64  \n",
      " 34  dem_education_level_Secondary/Other    25512 non-null  int64  \n",
      " 35  dem_education_level_Higher education   25512 non-null  int64  \n",
      " 36  household_size_3-4 people              25512 non-null  int64  \n",
      " 37  household_size_5+ people               25512 non-null  int64  \n",
      " 38  income_group_Low                       25512 non-null  int64  \n",
      " 39  income_group_Lower-Middle              25512 non-null  int64  \n",
      " 40  income_group_Middle                    25512 non-null  int64  \n",
      "dtypes: float32(17), float64(3), int64(21)\n",
      "memory usage: 7.5 MB\n",
      "None\n"
     ]
    }
   ],
   "source": [
    "print(X.info())"
   ]
  },
  {
   "cell_type": "code",
   "execution_count": 92,
   "id": "3fcc70de-ae09-41cf-af58-6c6b0db37765",
   "metadata": {},
   "outputs": [
    {
     "data": {
      "text/plain": [
       "general_health_rating\n",
       "Good         9126\n",
       "Very Good    8377\n",
       "Fair         4245\n",
       "Excellent    2449\n",
       "Poor         1315\n",
       "Name: count, dtype: int64"
      ]
     },
     "execution_count": 92,
     "metadata": {},
     "output_type": "execute_result"
    }
   ],
   "source": [
    "df_clean['general_health_rating'].value_counts()"
   ]
  },
  {
   "cell_type": "code",
   "execution_count": 93,
   "id": "c7c6cb3f-71bd-4089-892a-bde06aff12e2",
   "metadata": {},
   "outputs": [
    {
     "name": "stdout",
     "output_type": "stream",
     "text": [
      "Shape before: (25512, 35)\n"
     ]
    }
   ],
   "source": [
    "print(\"Shape before:\", df_clean.shape)"
   ]
  },
  {
   "cell_type": "code",
   "execution_count": 94,
   "id": "c7296ca8-4a55-47d0-8a9c-9b6664761d16",
   "metadata": {},
   "outputs": [
    {
     "name": "stdout",
     "output_type": "stream",
     "text": [
      "Shape after: (25512, 41)\n"
     ]
    }
   ],
   "source": [
    "print(\"Shape after:\", X.shape)"
   ]
  },
  {
   "cell_type": "code",
   "execution_count": 95,
   "id": "8866040b-c918-4247-aec0-f4943ef435bc",
   "metadata": {},
   "outputs": [
    {
     "name": "stdout",
     "output_type": "stream",
     "text": [
      "0\n"
     ]
    }
   ],
   "source": [
    "print(X.isnull().sum().sum())"
   ]
  },
  {
   "cell_type": "code",
   "execution_count": 96,
   "id": "6aa7bb1e-ccbd-4ab6-8df2-efe71c733299",
   "metadata": {},
   "outputs": [
    {
     "name": "stdout",
     "output_type": "stream",
     "text": [
      "(25512, 41)\n",
      "ghq_binary\n",
      "0    20257\n",
      "1     5255\n",
      "Name: count, dtype: int64\n"
     ]
    }
   ],
   "source": [
    "print(X.shape)\n",
    "print(y.value_counts())"
   ]
  },
  {
   "cell_type": "code",
   "execution_count": 97,
   "id": "003ad61c-e78b-4afd-9a34-2532ffe3acdc",
   "metadata": {},
   "outputs": [],
   "source": [
    "#### Split data into train and test sets with ## \n",
    "#### fixed seed and stratification ##\n",
    "\n",
    "X_train_raw, X_test_raw, y_train_raw, y_test_raw = train_test_split(\n",
    "    X, y,\n",
    "    test_size=0.2, \n",
    "    random_state=42,\n",
    "    stratify=y\n",
    ")"
   ]
  },
  {
   "cell_type": "code",
   "execution_count": 98,
   "id": "9b8d034b-cfb8-4dad-8125-e87b6a4f32c4",
   "metadata": {},
   "outputs": [
    {
     "name": "stdout",
     "output_type": "stream",
     "text": [
      "(20409, 41)\n",
      "(5103, 41)\n",
      "(20409,)\n",
      "(5103,)\n"
     ]
    }
   ],
   "source": [
    "print(X_train_raw.shape)\n",
    "print(X_test_raw.shape)\n",
    "print(y_train_raw.shape)\n",
    "print(y_test_raw.shape)"
   ]
  },
  {
   "cell_type": "code",
   "execution_count": 99,
   "id": "af78d75e-8af5-4afb-88f6-b52e56d378b9",
   "metadata": {},
   "outputs": [
    {
     "data": {
      "text/plain": [
       "['y_test_raw.joblib']"
      ]
     },
     "execution_count": 99,
     "metadata": {},
     "output_type": "execute_result"
    }
   ],
   "source": [
    "import joblib \n",
    "\n",
    "# X_train_raw, X_test_raw, y_train, y_test\n",
    "joblib.dump(X_train_raw, 'X_train_raw.joblib')\n",
    "joblib.dump(X_test_raw, 'X_test_raw.joblib')\n",
    "joblib.dump(y_train_raw, 'y_train_raw.joblib')\n",
    "joblib.dump(y_test_raw, 'y_test_raw.joblib')"
   ]
  }
 ],
 "metadata": {
  "kernelspec": {
   "display_name": "Python 3 (ipykernel)",
   "language": "python",
   "name": "python3"
  },
  "language_info": {
   "codemirror_mode": {
    "name": "ipython",
    "version": 3
   },
   "file_extension": ".py",
   "mimetype": "text/x-python",
   "name": "python",
   "nbconvert_exporter": "python",
   "pygments_lexer": "ipython3",
   "version": "3.10.11"
  }
 },
 "nbformat": 4,
 "nbformat_minor": 5
}
